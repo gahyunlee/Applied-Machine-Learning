{
 "cells": [
  {
   "cell_type": "markdown",
   "metadata": {},
   "source": [
    "# Assignment 3 _ 2nd Data Set\n",
    "## ANN & KNN"
   ]
  },
  {
   "cell_type": "code",
   "execution_count": 72,
   "metadata": {},
   "outputs": [],
   "source": [
    "import pandas as pd\n",
    "import numpy as np\n",
    "import matplotlib.pyplot as plt\n",
    "import seaborn as sns\n",
    "import missingno as msno\n",
    "import random\n",
    "#import sklearn \n",
    "#print(sklearn.__version__)\n",
    "\n",
    "%matplotlib inline\n",
    "sns.set(style ='whitegrid', palette='bright')"
   ]
  },
  {
   "cell_type": "code",
   "execution_count": 2,
   "metadata": {},
   "outputs": [],
   "source": [
    "from IPython.core.interactiveshell import InteractiveShell\n",
    "InteractiveShell.ast_node_interactivity = \"all\""
   ]
  },
  {
   "cell_type": "code",
   "execution_count": 3,
   "metadata": {},
   "outputs": [
    {
     "data": {
      "text/plain": [
       "dict_keys(['data', 'target', 'target_names', 'DESCR', 'feature_names', 'filename'])"
      ]
     },
     "execution_count": 3,
     "metadata": {},
     "output_type": "execute_result"
    }
   ],
   "source": [
    "#--- Importing Data Set\n",
    "\n",
    "from sklearn.datasets import load_breast_cancer\n",
    "cancer = load_breast_cancer()\n",
    "\n",
    "#--- Looking at the Data Set\n",
    "cancer.keys()"
   ]
  },
  {
   "cell_type": "code",
   "execution_count": 4,
   "metadata": {},
   "outputs": [
    {
     "name": "stdout",
     "output_type": "stream",
     "text": [
      ".. _breast_cancer_dataset:\n",
      "\n",
      "Breast cancer wisconsin (diagnostic) dataset\n",
      "--------------------------------------------\n",
      "\n",
      "**Data Set Characteristics:**\n",
      "\n",
      "    :Number of Instances: 569\n",
      "\n",
      "    :Number of Attributes: 30 numeric, predictive attributes and the class\n",
      "\n",
      "    :Attribute Information:\n",
      "        - radius (mean of distances from center to points on the perimeter)\n",
      "        - texture (standard deviation of gray-scale values)\n",
      "        - perimeter\n",
      "        - area\n",
      "        - smoothness (local variation in radius lengths)\n",
      "        - compactness (perimeter^2 / area - 1.0)\n",
      "        - concavity (severity of concave portions of the contour)\n",
      "        - concave points (number of concave portions of the contour)\n",
      "        - symmetry \n",
      "        - fractal dimension (\"coastline approximation\" - 1)\n",
      "\n",
      "        The mean, standard error, and \"worst\" or largest (mean of the three\n",
      "        largest values) of these features were computed for each image,\n",
      "        resulting in 30 features.  For instance, field 3 is Mean Radius, field\n",
      "        13 is Radius SE, field 23 is Worst Radius.\n",
      "\n",
      "        - class:\n",
      "                - WDBC-Malignant\n",
      "                - WDBC-Benign\n",
      "\n",
      "    :Summary Statistics:\n",
      "\n",
      "    ===================================== ====== ======\n",
      "                                           Min    Max\n",
      "    ===================================== ====== ======\n",
      "    radius (mean):                        6.981  28.11\n",
      "    texture (mean):                       9.71   39.28\n",
      "    perimeter (mean):                     43.79  188.5\n",
      "    area (mean):                          143.5  2501.0\n",
      "    smoothness (mean):                    0.053  0.163\n",
      "    compactness (mean):                   0.019  0.345\n",
      "    concavity (mean):                     0.0    0.427\n",
      "    concave points (mean):                0.0    0.201\n",
      "    symmetry (mean):                      0.106  0.304\n",
      "    fractal dimension (mean):             0.05   0.097\n",
      "    radius (standard error):              0.112  2.873\n",
      "    texture (standard error):             0.36   4.885\n",
      "    perimeter (standard error):           0.757  21.98\n",
      "    area (standard error):                6.802  542.2\n",
      "    smoothness (standard error):          0.002  0.031\n",
      "    compactness (standard error):         0.002  0.135\n",
      "    concavity (standard error):           0.0    0.396\n",
      "    concave points (standard error):      0.0    0.053\n",
      "    symmetry (standard error):            0.008  0.079\n",
      "    fractal dimension (standard error):   0.001  0.03\n",
      "    radius (worst):                       7.93   36.04\n",
      "    texture (worst):                      12.02  49.54\n",
      "    perimeter (worst):                    50.41  251.2\n",
      "    area (worst):                         185.2  4254.0\n",
      "    smoothness (worst):                   0.071  0.223\n",
      "    compactness (worst):                  0.027  1.058\n",
      "    concavity (worst):                    0.0    1.252\n",
      "    concave points (worst):               0.0    0.291\n",
      "    symmetry (worst):                     0.156  0.664\n",
      "    fractal dimension (worst):            0.055  0.208\n",
      "    ===================================== ====== ======\n",
      "\n",
      "    :Missing Attribute Values: None\n",
      "\n",
      "    :Class Distribution: 212 - Malignant, 357 - Benign\n",
      "\n",
      "    :Creator:  Dr. William H. Wolberg, W. Nick Street, Olvi L. Mangasarian\n",
      "\n",
      "    :Donor: Nick Street\n",
      "\n",
      "    :Date: November, 1995\n",
      "\n",
      "This is a copy of UCI ML Breast Cancer Wisconsin (Diagnostic) datasets.\n",
      "https://goo.gl/U2Uwz2\n",
      "\n",
      "Features are computed from a digitized image of a fine needle\n",
      "aspirate (FNA) of a breast mass.  They describe\n",
      "characteristics of the cell nuclei present in the image.\n",
      "\n",
      "Separating plane described above was obtained using\n",
      "Multisurface Method-Tree (MSM-T) [K. P. Bennett, \"Decision Tree\n",
      "Construction Via Linear Programming.\" Proceedings of the 4th\n",
      "Midwest Artificial Intelligence and Cognitive Science Society,\n",
      "pp. 97-101, 1992], a classification method which uses linear\n",
      "programming to construct a decision tree.  Relevant features\n",
      "were selected using an exhaustive search in the space of 1-4\n",
      "features and 1-3 separating planes.\n",
      "\n",
      "The actual linear program used to obtain the separating plane\n",
      "in the 3-dimensional space is that described in:\n",
      "[K. P. Bennett and O. L. Mangasarian: \"Robust Linear\n",
      "Programming Discrimination of Two Linearly Inseparable Sets\",\n",
      "Optimization Methods and Software 1, 1992, 23-34].\n",
      "\n",
      "This database is also available through the UW CS ftp server:\n",
      "\n",
      "ftp ftp.cs.wisc.edu\n",
      "cd math-prog/cpo-dataset/machine-learn/WDBC/\n",
      "\n",
      ".. topic:: References\n",
      "\n",
      "   - W.N. Street, W.H. Wolberg and O.L. Mangasarian. Nuclear feature extraction \n",
      "     for breast tumor diagnosis. IS&T/SPIE 1993 International Symposium on \n",
      "     Electronic Imaging: Science and Technology, volume 1905, pages 861-870,\n",
      "     San Jose, CA, 1993.\n",
      "   - O.L. Mangasarian, W.N. Street and W.H. Wolberg. Breast cancer diagnosis and \n",
      "     prognosis via linear programming. Operations Research, 43(4), pages 570-577, \n",
      "     July-August 1995.\n",
      "   - W.H. Wolberg, W.N. Street, and O.L. Mangasarian. Machine learning techniques\n",
      "     to diagnose breast cancer from fine-needle aspirates. Cancer Letters 77 (1994) \n",
      "     163-171.\n"
     ]
    }
   ],
   "source": [
    "#--- Data Description\n",
    "print(cancer['DESCR'])"
   ]
  },
  {
   "cell_type": "code",
   "execution_count": 5,
   "metadata": {},
   "outputs": [
    {
     "data": {
      "text/html": [
       "<div>\n",
       "<style scoped>\n",
       "    .dataframe tbody tr th:only-of-type {\n",
       "        vertical-align: middle;\n",
       "    }\n",
       "\n",
       "    .dataframe tbody tr th {\n",
       "        vertical-align: top;\n",
       "    }\n",
       "\n",
       "    .dataframe thead th {\n",
       "        text-align: right;\n",
       "    }\n",
       "</style>\n",
       "<table border=\"1\" class=\"dataframe\">\n",
       "  <thead>\n",
       "    <tr style=\"text-align: right;\">\n",
       "      <th></th>\n",
       "      <th>mean radius</th>\n",
       "      <th>mean texture</th>\n",
       "      <th>mean perimeter</th>\n",
       "      <th>mean area</th>\n",
       "      <th>mean smoothness</th>\n",
       "      <th>mean compactness</th>\n",
       "      <th>mean concavity</th>\n",
       "      <th>mean concave points</th>\n",
       "      <th>mean symmetry</th>\n",
       "      <th>mean fractal dimension</th>\n",
       "      <th>...</th>\n",
       "      <th>worst radius</th>\n",
       "      <th>worst texture</th>\n",
       "      <th>worst perimeter</th>\n",
       "      <th>worst area</th>\n",
       "      <th>worst smoothness</th>\n",
       "      <th>worst compactness</th>\n",
       "      <th>worst concavity</th>\n",
       "      <th>worst concave points</th>\n",
       "      <th>worst symmetry</th>\n",
       "      <th>worst fractal dimension</th>\n",
       "    </tr>\n",
       "  </thead>\n",
       "  <tbody>\n",
       "    <tr>\n",
       "      <th>0</th>\n",
       "      <td>17.99</td>\n",
       "      <td>10.38</td>\n",
       "      <td>122.80</td>\n",
       "      <td>1001.0</td>\n",
       "      <td>0.11840</td>\n",
       "      <td>0.27760</td>\n",
       "      <td>0.3001</td>\n",
       "      <td>0.14710</td>\n",
       "      <td>0.2419</td>\n",
       "      <td>0.07871</td>\n",
       "      <td>...</td>\n",
       "      <td>25.38</td>\n",
       "      <td>17.33</td>\n",
       "      <td>184.60</td>\n",
       "      <td>2019.0</td>\n",
       "      <td>0.1622</td>\n",
       "      <td>0.6656</td>\n",
       "      <td>0.7119</td>\n",
       "      <td>0.2654</td>\n",
       "      <td>0.4601</td>\n",
       "      <td>0.11890</td>\n",
       "    </tr>\n",
       "    <tr>\n",
       "      <th>1</th>\n",
       "      <td>20.57</td>\n",
       "      <td>17.77</td>\n",
       "      <td>132.90</td>\n",
       "      <td>1326.0</td>\n",
       "      <td>0.08474</td>\n",
       "      <td>0.07864</td>\n",
       "      <td>0.0869</td>\n",
       "      <td>0.07017</td>\n",
       "      <td>0.1812</td>\n",
       "      <td>0.05667</td>\n",
       "      <td>...</td>\n",
       "      <td>24.99</td>\n",
       "      <td>23.41</td>\n",
       "      <td>158.80</td>\n",
       "      <td>1956.0</td>\n",
       "      <td>0.1238</td>\n",
       "      <td>0.1866</td>\n",
       "      <td>0.2416</td>\n",
       "      <td>0.1860</td>\n",
       "      <td>0.2750</td>\n",
       "      <td>0.08902</td>\n",
       "    </tr>\n",
       "    <tr>\n",
       "      <th>2</th>\n",
       "      <td>19.69</td>\n",
       "      <td>21.25</td>\n",
       "      <td>130.00</td>\n",
       "      <td>1203.0</td>\n",
       "      <td>0.10960</td>\n",
       "      <td>0.15990</td>\n",
       "      <td>0.1974</td>\n",
       "      <td>0.12790</td>\n",
       "      <td>0.2069</td>\n",
       "      <td>0.05999</td>\n",
       "      <td>...</td>\n",
       "      <td>23.57</td>\n",
       "      <td>25.53</td>\n",
       "      <td>152.50</td>\n",
       "      <td>1709.0</td>\n",
       "      <td>0.1444</td>\n",
       "      <td>0.4245</td>\n",
       "      <td>0.4504</td>\n",
       "      <td>0.2430</td>\n",
       "      <td>0.3613</td>\n",
       "      <td>0.08758</td>\n",
       "    </tr>\n",
       "    <tr>\n",
       "      <th>3</th>\n",
       "      <td>11.42</td>\n",
       "      <td>20.38</td>\n",
       "      <td>77.58</td>\n",
       "      <td>386.1</td>\n",
       "      <td>0.14250</td>\n",
       "      <td>0.28390</td>\n",
       "      <td>0.2414</td>\n",
       "      <td>0.10520</td>\n",
       "      <td>0.2597</td>\n",
       "      <td>0.09744</td>\n",
       "      <td>...</td>\n",
       "      <td>14.91</td>\n",
       "      <td>26.50</td>\n",
       "      <td>98.87</td>\n",
       "      <td>567.7</td>\n",
       "      <td>0.2098</td>\n",
       "      <td>0.8663</td>\n",
       "      <td>0.6869</td>\n",
       "      <td>0.2575</td>\n",
       "      <td>0.6638</td>\n",
       "      <td>0.17300</td>\n",
       "    </tr>\n",
       "    <tr>\n",
       "      <th>4</th>\n",
       "      <td>20.29</td>\n",
       "      <td>14.34</td>\n",
       "      <td>135.10</td>\n",
       "      <td>1297.0</td>\n",
       "      <td>0.10030</td>\n",
       "      <td>0.13280</td>\n",
       "      <td>0.1980</td>\n",
       "      <td>0.10430</td>\n",
       "      <td>0.1809</td>\n",
       "      <td>0.05883</td>\n",
       "      <td>...</td>\n",
       "      <td>22.54</td>\n",
       "      <td>16.67</td>\n",
       "      <td>152.20</td>\n",
       "      <td>1575.0</td>\n",
       "      <td>0.1374</td>\n",
       "      <td>0.2050</td>\n",
       "      <td>0.4000</td>\n",
       "      <td>0.1625</td>\n",
       "      <td>0.2364</td>\n",
       "      <td>0.07678</td>\n",
       "    </tr>\n",
       "  </tbody>\n",
       "</table>\n",
       "<p>5 rows × 30 columns</p>\n",
       "</div>"
      ],
      "text/plain": [
       "   mean radius  mean texture  mean perimeter  mean area  mean smoothness  \\\n",
       "0        17.99         10.38          122.80     1001.0          0.11840   \n",
       "1        20.57         17.77          132.90     1326.0          0.08474   \n",
       "2        19.69         21.25          130.00     1203.0          0.10960   \n",
       "3        11.42         20.38           77.58      386.1          0.14250   \n",
       "4        20.29         14.34          135.10     1297.0          0.10030   \n",
       "\n",
       "   mean compactness  mean concavity  mean concave points  mean symmetry  \\\n",
       "0           0.27760          0.3001              0.14710         0.2419   \n",
       "1           0.07864          0.0869              0.07017         0.1812   \n",
       "2           0.15990          0.1974              0.12790         0.2069   \n",
       "3           0.28390          0.2414              0.10520         0.2597   \n",
       "4           0.13280          0.1980              0.10430         0.1809   \n",
       "\n",
       "   mean fractal dimension  ...  worst radius  worst texture  worst perimeter  \\\n",
       "0                 0.07871  ...         25.38          17.33           184.60   \n",
       "1                 0.05667  ...         24.99          23.41           158.80   \n",
       "2                 0.05999  ...         23.57          25.53           152.50   \n",
       "3                 0.09744  ...         14.91          26.50            98.87   \n",
       "4                 0.05883  ...         22.54          16.67           152.20   \n",
       "\n",
       "   worst area  worst smoothness  worst compactness  worst concavity  \\\n",
       "0      2019.0            0.1622             0.6656           0.7119   \n",
       "1      1956.0            0.1238             0.1866           0.2416   \n",
       "2      1709.0            0.1444             0.4245           0.4504   \n",
       "3       567.7            0.2098             0.8663           0.6869   \n",
       "4      1575.0            0.1374             0.2050           0.4000   \n",
       "\n",
       "   worst concave points  worst symmetry  worst fractal dimension  \n",
       "0                0.2654          0.4601                  0.11890  \n",
       "1                0.1860          0.2750                  0.08902  \n",
       "2                0.2430          0.3613                  0.08758  \n",
       "3                0.2575          0.6638                  0.17300  \n",
       "4                0.1625          0.2364                  0.07678  \n",
       "\n",
       "[5 rows x 30 columns]"
      ]
     },
     "execution_count": 5,
     "metadata": {},
     "output_type": "execute_result"
    }
   ],
   "source": [
    "#--- Create Data Frame for features\n",
    "df_feat = pd.DataFrame(cancer['data'], columns=cancer['feature_names'])\n",
    "df_feat.head()"
   ]
  },
  {
   "cell_type": "code",
   "execution_count": 6,
   "metadata": {},
   "outputs": [
    {
     "name": "stdout",
     "output_type": "stream",
     "text": [
      "<class 'pandas.core.frame.DataFrame'>\n",
      "RangeIndex: 569 entries, 0 to 568\n",
      "Data columns (total 30 columns):\n",
      "mean radius                569 non-null float64\n",
      "mean texture               569 non-null float64\n",
      "mean perimeter             569 non-null float64\n",
      "mean area                  569 non-null float64\n",
      "mean smoothness            569 non-null float64\n",
      "mean compactness           569 non-null float64\n",
      "mean concavity             569 non-null float64\n",
      "mean concave points        569 non-null float64\n",
      "mean symmetry              569 non-null float64\n",
      "mean fractal dimension     569 non-null float64\n",
      "radius error               569 non-null float64\n",
      "texture error              569 non-null float64\n",
      "perimeter error            569 non-null float64\n",
      "area error                 569 non-null float64\n",
      "smoothness error           569 non-null float64\n",
      "compactness error          569 non-null float64\n",
      "concavity error            569 non-null float64\n",
      "concave points error       569 non-null float64\n",
      "symmetry error             569 non-null float64\n",
      "fractal dimension error    569 non-null float64\n",
      "worst radius               569 non-null float64\n",
      "worst texture              569 non-null float64\n",
      "worst perimeter            569 non-null float64\n",
      "worst area                 569 non-null float64\n",
      "worst smoothness           569 non-null float64\n",
      "worst compactness          569 non-null float64\n",
      "worst concavity            569 non-null float64\n",
      "worst concave points       569 non-null float64\n",
      "worst symmetry             569 non-null float64\n",
      "worst fractal dimension    569 non-null float64\n",
      "dtypes: float64(30)\n",
      "memory usage: 133.5 KB\n"
     ]
    }
   ],
   "source": [
    "df_feat.info()"
   ]
  },
  {
   "cell_type": "code",
   "execution_count": 7,
   "metadata": {},
   "outputs": [
    {
     "data": {
      "text/html": [
       "<div>\n",
       "<style scoped>\n",
       "    .dataframe tbody tr th:only-of-type {\n",
       "        vertical-align: middle;\n",
       "    }\n",
       "\n",
       "    .dataframe tbody tr th {\n",
       "        vertical-align: top;\n",
       "    }\n",
       "\n",
       "    .dataframe thead th {\n",
       "        text-align: right;\n",
       "    }\n",
       "</style>\n",
       "<table border=\"1\" class=\"dataframe\">\n",
       "  <thead>\n",
       "    <tr style=\"text-align: right;\">\n",
       "      <th></th>\n",
       "      <th>mean radius</th>\n",
       "      <th>mean texture</th>\n",
       "      <th>mean perimeter</th>\n",
       "      <th>mean area</th>\n",
       "      <th>mean smoothness</th>\n",
       "      <th>mean compactness</th>\n",
       "      <th>mean concavity</th>\n",
       "      <th>mean concave points</th>\n",
       "      <th>mean symmetry</th>\n",
       "      <th>mean fractal dimension</th>\n",
       "      <th>...</th>\n",
       "      <th>worst radius</th>\n",
       "      <th>worst texture</th>\n",
       "      <th>worst perimeter</th>\n",
       "      <th>worst area</th>\n",
       "      <th>worst smoothness</th>\n",
       "      <th>worst compactness</th>\n",
       "      <th>worst concavity</th>\n",
       "      <th>worst concave points</th>\n",
       "      <th>worst symmetry</th>\n",
       "      <th>worst fractal dimension</th>\n",
       "    </tr>\n",
       "  </thead>\n",
       "  <tbody>\n",
       "    <tr>\n",
       "      <th>count</th>\n",
       "      <td>569.000000</td>\n",
       "      <td>569.000000</td>\n",
       "      <td>569.000000</td>\n",
       "      <td>569.000000</td>\n",
       "      <td>569.000000</td>\n",
       "      <td>569.000000</td>\n",
       "      <td>569.000000</td>\n",
       "      <td>569.000000</td>\n",
       "      <td>569.000000</td>\n",
       "      <td>569.000000</td>\n",
       "      <td>...</td>\n",
       "      <td>569.000000</td>\n",
       "      <td>569.000000</td>\n",
       "      <td>569.000000</td>\n",
       "      <td>569.000000</td>\n",
       "      <td>569.000000</td>\n",
       "      <td>569.000000</td>\n",
       "      <td>569.000000</td>\n",
       "      <td>569.000000</td>\n",
       "      <td>569.000000</td>\n",
       "      <td>569.000000</td>\n",
       "    </tr>\n",
       "    <tr>\n",
       "      <th>mean</th>\n",
       "      <td>14.127292</td>\n",
       "      <td>19.289649</td>\n",
       "      <td>91.969033</td>\n",
       "      <td>654.889104</td>\n",
       "      <td>0.096360</td>\n",
       "      <td>0.104341</td>\n",
       "      <td>0.088799</td>\n",
       "      <td>0.048919</td>\n",
       "      <td>0.181162</td>\n",
       "      <td>0.062798</td>\n",
       "      <td>...</td>\n",
       "      <td>16.269190</td>\n",
       "      <td>25.677223</td>\n",
       "      <td>107.261213</td>\n",
       "      <td>880.583128</td>\n",
       "      <td>0.132369</td>\n",
       "      <td>0.254265</td>\n",
       "      <td>0.272188</td>\n",
       "      <td>0.114606</td>\n",
       "      <td>0.290076</td>\n",
       "      <td>0.083946</td>\n",
       "    </tr>\n",
       "    <tr>\n",
       "      <th>std</th>\n",
       "      <td>3.524049</td>\n",
       "      <td>4.301036</td>\n",
       "      <td>24.298981</td>\n",
       "      <td>351.914129</td>\n",
       "      <td>0.014064</td>\n",
       "      <td>0.052813</td>\n",
       "      <td>0.079720</td>\n",
       "      <td>0.038803</td>\n",
       "      <td>0.027414</td>\n",
       "      <td>0.007060</td>\n",
       "      <td>...</td>\n",
       "      <td>4.833242</td>\n",
       "      <td>6.146258</td>\n",
       "      <td>33.602542</td>\n",
       "      <td>569.356993</td>\n",
       "      <td>0.022832</td>\n",
       "      <td>0.157336</td>\n",
       "      <td>0.208624</td>\n",
       "      <td>0.065732</td>\n",
       "      <td>0.061867</td>\n",
       "      <td>0.018061</td>\n",
       "    </tr>\n",
       "    <tr>\n",
       "      <th>min</th>\n",
       "      <td>6.981000</td>\n",
       "      <td>9.710000</td>\n",
       "      <td>43.790000</td>\n",
       "      <td>143.500000</td>\n",
       "      <td>0.052630</td>\n",
       "      <td>0.019380</td>\n",
       "      <td>0.000000</td>\n",
       "      <td>0.000000</td>\n",
       "      <td>0.106000</td>\n",
       "      <td>0.049960</td>\n",
       "      <td>...</td>\n",
       "      <td>7.930000</td>\n",
       "      <td>12.020000</td>\n",
       "      <td>50.410000</td>\n",
       "      <td>185.200000</td>\n",
       "      <td>0.071170</td>\n",
       "      <td>0.027290</td>\n",
       "      <td>0.000000</td>\n",
       "      <td>0.000000</td>\n",
       "      <td>0.156500</td>\n",
       "      <td>0.055040</td>\n",
       "    </tr>\n",
       "    <tr>\n",
       "      <th>25%</th>\n",
       "      <td>11.700000</td>\n",
       "      <td>16.170000</td>\n",
       "      <td>75.170000</td>\n",
       "      <td>420.300000</td>\n",
       "      <td>0.086370</td>\n",
       "      <td>0.064920</td>\n",
       "      <td>0.029560</td>\n",
       "      <td>0.020310</td>\n",
       "      <td>0.161900</td>\n",
       "      <td>0.057700</td>\n",
       "      <td>...</td>\n",
       "      <td>13.010000</td>\n",
       "      <td>21.080000</td>\n",
       "      <td>84.110000</td>\n",
       "      <td>515.300000</td>\n",
       "      <td>0.116600</td>\n",
       "      <td>0.147200</td>\n",
       "      <td>0.114500</td>\n",
       "      <td>0.064930</td>\n",
       "      <td>0.250400</td>\n",
       "      <td>0.071460</td>\n",
       "    </tr>\n",
       "    <tr>\n",
       "      <th>50%</th>\n",
       "      <td>13.370000</td>\n",
       "      <td>18.840000</td>\n",
       "      <td>86.240000</td>\n",
       "      <td>551.100000</td>\n",
       "      <td>0.095870</td>\n",
       "      <td>0.092630</td>\n",
       "      <td>0.061540</td>\n",
       "      <td>0.033500</td>\n",
       "      <td>0.179200</td>\n",
       "      <td>0.061540</td>\n",
       "      <td>...</td>\n",
       "      <td>14.970000</td>\n",
       "      <td>25.410000</td>\n",
       "      <td>97.660000</td>\n",
       "      <td>686.500000</td>\n",
       "      <td>0.131300</td>\n",
       "      <td>0.211900</td>\n",
       "      <td>0.226700</td>\n",
       "      <td>0.099930</td>\n",
       "      <td>0.282200</td>\n",
       "      <td>0.080040</td>\n",
       "    </tr>\n",
       "    <tr>\n",
       "      <th>75%</th>\n",
       "      <td>15.780000</td>\n",
       "      <td>21.800000</td>\n",
       "      <td>104.100000</td>\n",
       "      <td>782.700000</td>\n",
       "      <td>0.105300</td>\n",
       "      <td>0.130400</td>\n",
       "      <td>0.130700</td>\n",
       "      <td>0.074000</td>\n",
       "      <td>0.195700</td>\n",
       "      <td>0.066120</td>\n",
       "      <td>...</td>\n",
       "      <td>18.790000</td>\n",
       "      <td>29.720000</td>\n",
       "      <td>125.400000</td>\n",
       "      <td>1084.000000</td>\n",
       "      <td>0.146000</td>\n",
       "      <td>0.339100</td>\n",
       "      <td>0.382900</td>\n",
       "      <td>0.161400</td>\n",
       "      <td>0.317900</td>\n",
       "      <td>0.092080</td>\n",
       "    </tr>\n",
       "    <tr>\n",
       "      <th>max</th>\n",
       "      <td>28.110000</td>\n",
       "      <td>39.280000</td>\n",
       "      <td>188.500000</td>\n",
       "      <td>2501.000000</td>\n",
       "      <td>0.163400</td>\n",
       "      <td>0.345400</td>\n",
       "      <td>0.426800</td>\n",
       "      <td>0.201200</td>\n",
       "      <td>0.304000</td>\n",
       "      <td>0.097440</td>\n",
       "      <td>...</td>\n",
       "      <td>36.040000</td>\n",
       "      <td>49.540000</td>\n",
       "      <td>251.200000</td>\n",
       "      <td>4254.000000</td>\n",
       "      <td>0.222600</td>\n",
       "      <td>1.058000</td>\n",
       "      <td>1.252000</td>\n",
       "      <td>0.291000</td>\n",
       "      <td>0.663800</td>\n",
       "      <td>0.207500</td>\n",
       "    </tr>\n",
       "  </tbody>\n",
       "</table>\n",
       "<p>8 rows × 30 columns</p>\n",
       "</div>"
      ],
      "text/plain": [
       "       mean radius  mean texture  mean perimeter    mean area  \\\n",
       "count   569.000000    569.000000      569.000000   569.000000   \n",
       "mean     14.127292     19.289649       91.969033   654.889104   \n",
       "std       3.524049      4.301036       24.298981   351.914129   \n",
       "min       6.981000      9.710000       43.790000   143.500000   \n",
       "25%      11.700000     16.170000       75.170000   420.300000   \n",
       "50%      13.370000     18.840000       86.240000   551.100000   \n",
       "75%      15.780000     21.800000      104.100000   782.700000   \n",
       "max      28.110000     39.280000      188.500000  2501.000000   \n",
       "\n",
       "       mean smoothness  mean compactness  mean concavity  mean concave points  \\\n",
       "count       569.000000        569.000000      569.000000           569.000000   \n",
       "mean          0.096360          0.104341        0.088799             0.048919   \n",
       "std           0.014064          0.052813        0.079720             0.038803   \n",
       "min           0.052630          0.019380        0.000000             0.000000   \n",
       "25%           0.086370          0.064920        0.029560             0.020310   \n",
       "50%           0.095870          0.092630        0.061540             0.033500   \n",
       "75%           0.105300          0.130400        0.130700             0.074000   \n",
       "max           0.163400          0.345400        0.426800             0.201200   \n",
       "\n",
       "       mean symmetry  mean fractal dimension  ...  worst radius  \\\n",
       "count     569.000000              569.000000  ...    569.000000   \n",
       "mean        0.181162                0.062798  ...     16.269190   \n",
       "std         0.027414                0.007060  ...      4.833242   \n",
       "min         0.106000                0.049960  ...      7.930000   \n",
       "25%         0.161900                0.057700  ...     13.010000   \n",
       "50%         0.179200                0.061540  ...     14.970000   \n",
       "75%         0.195700                0.066120  ...     18.790000   \n",
       "max         0.304000                0.097440  ...     36.040000   \n",
       "\n",
       "       worst texture  worst perimeter   worst area  worst smoothness  \\\n",
       "count     569.000000       569.000000   569.000000        569.000000   \n",
       "mean       25.677223       107.261213   880.583128          0.132369   \n",
       "std         6.146258        33.602542   569.356993          0.022832   \n",
       "min        12.020000        50.410000   185.200000          0.071170   \n",
       "25%        21.080000        84.110000   515.300000          0.116600   \n",
       "50%        25.410000        97.660000   686.500000          0.131300   \n",
       "75%        29.720000       125.400000  1084.000000          0.146000   \n",
       "max        49.540000       251.200000  4254.000000          0.222600   \n",
       "\n",
       "       worst compactness  worst concavity  worst concave points  \\\n",
       "count         569.000000       569.000000            569.000000   \n",
       "mean            0.254265         0.272188              0.114606   \n",
       "std             0.157336         0.208624              0.065732   \n",
       "min             0.027290         0.000000              0.000000   \n",
       "25%             0.147200         0.114500              0.064930   \n",
       "50%             0.211900         0.226700              0.099930   \n",
       "75%             0.339100         0.382900              0.161400   \n",
       "max             1.058000         1.252000              0.291000   \n",
       "\n",
       "       worst symmetry  worst fractal dimension  \n",
       "count      569.000000               569.000000  \n",
       "mean         0.290076                 0.083946  \n",
       "std          0.061867                 0.018061  \n",
       "min          0.156500                 0.055040  \n",
       "25%          0.250400                 0.071460  \n",
       "50%          0.282200                 0.080040  \n",
       "75%          0.317900                 0.092080  \n",
       "max          0.663800                 0.207500  \n",
       "\n",
       "[8 rows x 30 columns]"
      ]
     },
     "execution_count": 7,
     "metadata": {},
     "output_type": "execute_result"
    }
   ],
   "source": [
    "df_feat.describe()"
   ]
  },
  {
   "cell_type": "code",
   "execution_count": 8,
   "metadata": {},
   "outputs": [],
   "source": [
    "# SET y \n",
    "y = cancer['target']"
   ]
  },
  {
   "cell_type": "code",
   "execution_count": 9,
   "metadata": {},
   "outputs": [
    {
     "data": {
      "text/plain": [
       "<matplotlib.axes._subplots.AxesSubplot at 0x198ea76b5c0>"
      ]
     },
     "execution_count": 9,
     "metadata": {},
     "output_type": "execute_result"
    },
    {
     "data": {
      "text/plain": [
       "Text(0.5, 1.0, 'Distribution of Target')"
      ]
     },
     "execution_count": 9,
     "metadata": {},
     "output_type": "execute_result"
    },
    {
     "data": {
      "image/png": "[encoded data removed]",
      "text/plain": [
       "<Figure size 432x288 with 1 Axes>"
      ]
     },
     "metadata": {
      "needs_background": "light"
     },
     "output_type": "display_data"
    }
   ],
   "source": [
    "#--- Check the imbalance in Target\n",
    "\n",
    "sns.countplot(x='target',data=cancer)\n",
    "plt.title('Distribution of Target')  # 0: Malignant, 1: Benign"
   ]
  },
  {
   "cell_type": "markdown",
   "metadata": {},
   "source": [
    "# ANN"
   ]
  },
  {
   "cell_type": "code",
   "execution_count": 10,
   "metadata": {},
   "outputs": [
    {
     "name": "stderr",
     "output_type": "stream",
     "text": [
      "C:\\Users\\14698\\AppData\\Local\\Continuum\\anaconda3\\lib\\site-packages\\tensorflow\\python\\framework\\dtypes.py:526: FutureWarning: Passing (type, 1) or '1type' as a synonym of type is deprecated; in a future version of numpy, it will be understood as (type, (1,)) / '(1,)type'.\n",
      "  _np_qint8 = np.dtype([(\"qint8\", np.int8, 1)])\n",
      "C:\\Users\\14698\\AppData\\Local\\Continuum\\anaconda3\\lib\\site-packages\\tensorflow\\python\\framework\\dtypes.py:527: FutureWarning: Passing (type, 1) or '1type' as a synonym of type is deprecated; in a future version of numpy, it will be understood as (type, (1,)) / '(1,)type'.\n",
      "  _np_quint8 = np.dtype([(\"quint8\", np.uint8, 1)])\n",
      "C:\\Users\\14698\\AppData\\Local\\Continuum\\anaconda3\\lib\\site-packages\\tensorflow\\python\\framework\\dtypes.py:528: FutureWarning: Passing (type, 1) or '1type' as a synonym of type is deprecated; in a future version of numpy, it will be understood as (type, (1,)) / '(1,)type'.\n",
      "  _np_qint16 = np.dtype([(\"qint16\", np.int16, 1)])\n",
      "C:\\Users\\14698\\AppData\\Local\\Continuum\\anaconda3\\lib\\site-packages\\tensorflow\\python\\framework\\dtypes.py:529: FutureWarning: Passing (type, 1) or '1type' as a synonym of type is deprecated; in a future version of numpy, it will be understood as (type, (1,)) / '(1,)type'.\n",
      "  _np_quint16 = np.dtype([(\"quint16\", np.uint16, 1)])\n",
      "C:\\Users\\14698\\AppData\\Local\\Continuum\\anaconda3\\lib\\site-packages\\tensorflow\\python\\framework\\dtypes.py:530: FutureWarning: Passing (type, 1) or '1type' as a synonym of type is deprecated; in a future version of numpy, it will be understood as (type, (1,)) / '(1,)type'.\n",
      "  _np_qint32 = np.dtype([(\"qint32\", np.int32, 1)])\n",
      "C:\\Users\\14698\\AppData\\Local\\Continuum\\anaconda3\\lib\\site-packages\\tensorflow\\python\\framework\\dtypes.py:535: FutureWarning: Passing (type, 1) or '1type' as a synonym of type is deprecated; in a future version of numpy, it will be understood as (type, (1,)) / '(1,)type'.\n",
      "  np_resource = np.dtype([(\"resource\", np.ubyte, 1)])\n"
     ]
    },
    {
     "data": {
      "text/plain": [
       "'1.13.1'"
      ]
     },
     "execution_count": 10,
     "metadata": {},
     "output_type": "execute_result"
    }
   ],
   "source": [
    "import tensorflow as tf\n",
    "from tensorflow import keras\n",
    "\n",
    "import os\n",
    "import tempfile\n",
    "\n",
    "import matplotlib as mpl\n",
    "import matplotlib.pyplot as plt\n",
    "import numpy as np\n",
    "import pandas as pd\n",
    "import seaborn as sns\n",
    "\n",
    "import sklearn\n",
    "from sklearn.metrics import confusion_matrix\n",
    "from sklearn.model_selection import train_test_split\n",
    "from sklearn.preprocessing import StandardScaler\n",
    "\n",
    "\n",
    "tf.__version__\n",
    "mpl.rcParams['figure.figsize'] = (12, 10)\n",
    "colors = plt.rcParams['axes.prop_cycle'].by_key()['color']"
   ]
  },
  {
   "cell_type": "code",
   "execution_count": 11,
   "metadata": {},
   "outputs": [
    {
     "name": "stdout",
     "output_type": "stream",
     "text": [
      "Examples:\n",
      "    Total: 569\n",
      "    Positive: 357 (62.74% of total)\n",
      "\n"
     ]
    }
   ],
   "source": [
    "#--- Examine the class label imbalance in numbers\n",
    "df_y= pd.DataFrame(y, columns= ['Class'])\n",
    "df = pd.concat([df_feat, df_y],axis=1)\n",
    "#df.head()\n",
    "neg, pos = np.bincount(df['Class'])\n",
    "total = neg + pos\n",
    "print('Examples:\\n    Total: {}\\n    Positive: {} ({:.2f}% of total)\\n'.format(\n",
    "    total, pos, 100 * pos / total))"
   ]
  },
  {
   "cell_type": "code",
   "execution_count": 12,
   "metadata": {},
   "outputs": [],
   "source": [
    "# Use a utility from sklearn to split and shuffle our dataset.\n",
    "train_df, test_df = train_test_split(df, test_size=0.2)\n",
    "train_df, val_df = train_test_split(df, test_size=0.2)\n",
    "\n",
    "# Form np arrays of labels and features.\n",
    "train_labels = np.array(train_df.pop('Class'))\n",
    "bool_train_labels = train_labels != 0\n",
    "val_labels = np.array(val_df.pop('Class'))\n",
    "test_labels = np.array(test_df.pop('Class'))\n",
    "\n",
    "train_features = np.array(train_df)\n",
    "val_features = np.array(val_df)\n",
    "test_features = np.array(test_df)"
   ]
  },
  {
   "cell_type": "code",
   "execution_count": 13,
   "metadata": {},
   "outputs": [
    {
     "name": "stdout",
     "output_type": "stream",
     "text": [
      "Training labels shape: (455,)\n",
      "Validation labels shape: (114,)\n",
      "Test labels shape: (114,)\n",
      "Training features shape: (455, 30)\n",
      "Validation features shape: (114, 30)\n",
      "Test features shape: (114, 30)\n"
     ]
    }
   ],
   "source": [
    "scaler = StandardScaler()\n",
    "train_features = scaler.fit_transform(train_features)\n",
    "\n",
    "val_features = scaler.transform(val_features)\n",
    "test_features = scaler.transform(test_features)\n",
    "\n",
    "train_features = np.clip(train_features, -5, 5)\n",
    "val_features = np.clip(val_features, -5, 5)\n",
    "test_features = np.clip(test_features, -5, 5)\n",
    "\n",
    "\n",
    "print('Training labels shape:', train_labels.shape)\n",
    "print('Validation labels shape:', val_labels.shape)\n",
    "print('Test labels shape:', test_labels.shape)\n",
    "\n",
    "print('Training features shape:', train_features.shape)\n",
    "print('Validation features shape:', val_features.shape)\n",
    "print('Test features shape:', test_features.shape)"
   ]
  },
  {
   "cell_type": "code",
   "execution_count": 111,
   "metadata": {},
   "outputs": [
    {
     "name": "stdout",
     "output_type": "stream",
     "text": [
      "_________________________________________________________________\n",
      "Layer (type)                 Output Shape              Param #   \n",
      "=================================================================\n",
      "dense_90 (Dense)             (None, 24)                744       \n",
      "_________________________________________________________________\n",
      "dense_91 (Dense)             (None, 12)                300       \n",
      "_________________________________________________________________\n",
      "dropout_30 (Dropout)         (None, 12)                0         \n",
      "_________________________________________________________________\n",
      "dense_92 (Dense)             (None, 1)                 13        \n",
      "=================================================================\n",
      "Total params: 1,057\n",
      "Trainable params: 1,057\n",
      "Non-trainable params: 0\n",
      "_________________________________________________________________\n"
     ]
    }
   ],
   "source": [
    "METRICS = [\n",
    "      keras.metrics.TruePositives(name='tp'),\n",
    "      keras.metrics.FalsePositives(name='fp'),\n",
    "      keras.metrics.TrueNegatives(name='tn'),\n",
    "      keras.metrics.FalseNegatives(name='fn'), \n",
    "      keras.metrics.BinaryAccuracy(name='accuracy'),\n",
    "      keras.metrics.Precision(name='precision'),\n",
    "      keras.metrics.Recall(name='recall')\n",
    "\n",
    "      #keras.metrics.AUC(name='auc'),\n",
    "]\n",
    "\n",
    "Activation_f = ['relu']\n",
    "import random \n",
    "random.seed(123)\n",
    "\n",
    "def make_model(metrics = METRICS, output_bias=None, activation_f =Activation_f):\n",
    "    if output_bias is not None:\n",
    "        output_bias = tf.keras.initializers.Constant(output_bias)\n",
    "    for func in Activation_f:\n",
    "        model = keras.Sequential([\n",
    "        keras.layers.Dense(\n",
    "            24, activation='relu',\n",
    "            input_shape=(train_features.shape[-1],)),\n",
    "        keras.layers.Dense(12, activation=func),\n",
    "        keras.layers.Dropout(0.5),\n",
    "        keras.layers.Dense(1, activation='sigmoid',\n",
    "                         bias_initializer=output_bias),\n",
    "  ])\n",
    "\n",
    "    model.compile(\n",
    "        optimizer=keras.optimizers.Adam(lr=1e-3),\n",
    "        loss=keras.losses.BinaryCrossentropy(),\n",
    "        metrics=metrics)\n",
    "\n",
    "    return model\n",
    "\n",
    "model = make_model()\n",
    "model.summary()"
   ]
  },
  {
   "cell_type": "code",
   "execution_count": 112,
   "metadata": {},
   "outputs": [],
   "source": [
    "EPOCHS = 10 # since the dataset is relatively small\n",
    "BATCH_SIZE = 20 \n",
    "\n",
    "early_stopping = tf.keras.callbacks.EarlyStopping(\n",
    "    monitor='val_auc', \n",
    "    verbose=1,\n",
    "    patience=10,\n",
    "    mode='max',\n",
    "    restore_best_weights=True)"
   ]
  },
  {
   "cell_type": "code",
   "execution_count": 113,
   "metadata": {},
   "outputs": [
    {
     "data": {
      "text/plain": [
       "array([[0.16247758],\n",
       "       [0.20026499],\n",
       "       [0.23212779],\n",
       "       [0.1776388 ],\n",
       "       [0.05780903],\n",
       "       [0.22156948],\n",
       "       [0.05192983],\n",
       "       [0.13064954],\n",
       "       [0.13234802],\n",
       "       [0.1937464 ]], dtype=float32)"
      ]
     },
     "execution_count": 113,
     "metadata": {},
     "output_type": "execute_result"
    }
   ],
   "source": [
    "model.predict(train_features[:10])"
   ]
  },
  {
   "cell_type": "code",
   "execution_count": 114,
   "metadata": {},
   "outputs": [],
   "source": [
    "# (Optional) Set the correct initial bias."
   ]
  },
  {
   "cell_type": "code",
   "execution_count": 115,
   "metadata": {},
   "outputs": [
    {
     "name": "stdout",
     "output_type": "stream",
     "text": [
      "Loss: 1.1606\n"
     ]
    }
   ],
   "source": [
    "results = model.evaluate(train_features, train_labels, batch_size=BATCH_SIZE, verbose=0)\n",
    "print(\"Loss: {:0.4f}\".format(results[0]))"
   ]
  },
  {
   "cell_type": "code",
   "execution_count": 116,
   "metadata": {},
   "outputs": [
    {
     "data": {
      "text/plain": [
       "array([0.52114951])"
      ]
     },
     "execution_count": 116,
     "metadata": {},
     "output_type": "execute_result"
    }
   ],
   "source": [
    "initial_bias = np.log([pos/neg])\n",
    "initial_bias"
   ]
  },
  {
   "cell_type": "code",
   "execution_count": 107,
   "metadata": {},
   "outputs": [
    {
     "data": {
      "text/plain": [
       "array([[0.58015835],\n",
       "       [0.60198575],\n",
       "       [0.5825392 ],\n",
       "       [0.61605066],\n",
       "       [0.57481515],\n",
       "       [0.587456  ],\n",
       "       [0.5670882 ],\n",
       "       [0.62447715],\n",
       "       [0.612754  ],\n",
       "       [0.5996633 ]], dtype=float32)"
      ]
     },
     "execution_count": 107,
     "metadata": {},
     "output_type": "execute_result"
    }
   ],
   "source": [
    "model = make_model(output_bias = initial_bias)\n",
    "model.predict(train_features[:10])"
   ]
  },
  {
   "cell_type": "code",
   "execution_count": 117,
   "metadata": {},
   "outputs": [
    {
     "name": "stdout",
     "output_type": "stream",
     "text": [
      "Loss: 1.1606\n"
     ]
    }
   ],
   "source": [
    "results = model.evaluate(train_features, train_labels, batch_size=BATCH_SIZE, verbose=0)\n",
    "print(\"Loss: {:0.4f}\".format(results[0]))"
   ]
  },
  {
   "cell_type": "code",
   "execution_count": 118,
   "metadata": {},
   "outputs": [
    {
     "name": "stdout",
     "output_type": "stream",
     "text": [
      "Loss: 0.5784\n"
     ]
    },
    {
     "data": {
      "text/plain": [
       "array([[0.4838507 ],\n",
       "       [0.5820335 ],\n",
       "       [0.6442266 ],\n",
       "       [0.49287915],\n",
       "       [0.6329854 ],\n",
       "       [0.64105785],\n",
       "       [0.45011172],\n",
       "       [0.49403253],\n",
       "       [0.4594704 ],\n",
       "       [0.65365547]], dtype=float32)"
      ]
     },
     "execution_count": 118,
     "metadata": {},
     "output_type": "execute_result"
    }
   ],
   "source": [
    "results2 = model2.evaluate(train_features, train_labels, batch_size=BATCH_SIZE, verbose=0)\n",
    "print(\"Loss: {:0.4f}\".format(results2[0]))\n",
    "\n",
    "model2 = make_model(output_bias = initial_bias)\n",
    "model2.predict(train_features[:10])"
   ]
  },
  {
   "cell_type": "code",
   "execution_count": 119,
   "metadata": {},
   "outputs": [
    {
     "name": "stdout",
     "output_type": "stream",
     "text": [
      "Loss: 0.6210\n"
     ]
    }
   ],
   "source": [
    "results = model2.evaluate(train_features, train_labels, batch_size=BATCH_SIZE, verbose=0)\n",
    "print(\"Loss: {:0.4f}\".format(results[0]))"
   ]
  },
  {
   "cell_type": "code",
   "execution_count": 120,
   "metadata": {},
   "outputs": [
    {
     "name": "stdout",
     "output_type": "stream",
     "text": [
      "WARNING:tensorflow:This model was compiled with a Keras optimizer (<tensorflow.python.keras.optimizers.Adam object at 0x0000019898571898>) but is being saved in TensorFlow format with `save_weights`. The model's weights will be saved, but unlike with TensorFlow optimizers in the TensorFlow format the optimizer's state will not be saved.\n",
      "\n",
      "Consider using a TensorFlow optimizer from `tf.train`.\n"
     ]
    }
   ],
   "source": [
    "# Checkpoint the initial weights\n",
    "initial_weights = os.path.join(tempfile.mkdtemp(),'initial_weights')\n",
    "model.save_weights(initial_weights)"
   ]
  },
  {
   "cell_type": "code",
   "execution_count": 121,
   "metadata": {},
   "outputs": [
    {
     "data": {
      "text/plain": [
       "<tensorflow.python.training.checkpointable.util.CheckpointLoadStatus at 0x1989de84ba8>"
      ]
     },
     "execution_count": 121,
     "metadata": {},
     "output_type": "execute_result"
    },
    {
     "data": {
      "text/plain": [
       "<tf.Variable 'AssignVariableOp_97' shape=(1,) dtype=float32>"
      ]
     },
     "execution_count": 121,
     "metadata": {},
     "output_type": "execute_result"
    }
   ],
   "source": [
    "# Confirm that the bias fix helps\n",
    "model = make_model()\n",
    "model.load_weights(initial_weights)\n",
    "model.layers[-1].bias.assign([0.0])\n",
    "zero_bias_history = model.fit(\n",
    "    train_features,\n",
    "    train_labels,\n",
    "    batch_size=BATCH_SIZE,\n",
    "    epochs=20,\n",
    "    validation_data=(val_features, val_labels), \n",
    "    verbose=0)"
   ]
  },
  {
   "cell_type": "code",
   "execution_count": 122,
   "metadata": {},
   "outputs": [
    {
     "data": {
      "text/plain": [
       "<tensorflow.python.training.checkpointable.util.CheckpointLoadStatus at 0x198a0a5d9b0>"
      ]
     },
     "execution_count": 122,
     "metadata": {},
     "output_type": "execute_result"
    }
   ],
   "source": [
    "model = make_model()\n",
    "model.load_weights(initial_weights)\n",
    "careful_bias_history = model.fit(\n",
    "    train_features,\n",
    "    train_labels,\n",
    "    batch_size=BATCH_SIZE,\n",
    "    epochs=20,\n",
    "    validation_data=(val_features, val_labels), \n",
    "    verbose=0)"
   ]
  },
  {
   "cell_type": "code",
   "execution_count": 123,
   "metadata": {},
   "outputs": [],
   "source": [
    "def plot_loss(history, label, n):\n",
    "  # Use a log scale to show the wide range of values.\n",
    "    plt.semilogy(history.epoch,  history.history['loss'],\n",
    "               color=colors[n], label='Train '+label)\n",
    "    plt.semilogy(history.epoch,  history.history['val_loss'],\n",
    "          color=colors[n], label='Val '+label,\n",
    "          linestyle=\"--\")\n",
    "    plt.xlabel('Epoch')\n",
    "    plt.ylabel('Loss')\n",
    "    plt.legend()"
   ]
  },
  {
   "cell_type": "code",
   "execution_count": 124,
   "metadata": {},
   "outputs": [
    {
     "data": {
      "image/png": "[encoded data removed]",
      "text/plain": [
       "<Figure size 432x288 with 1 Axes>"
      ]
     },
     "metadata": {},
     "output_type": "display_data"
    }
   ],
   "source": [
    "plot_loss(zero_bias_history, \"Zero Bias\", 0)"
   ]
  },
  {
   "cell_type": "code",
   "execution_count": 125,
   "metadata": {},
   "outputs": [
    {
     "data": {
      "image/png": "[encoded data removed]",
      "text/plain": [
       "<Figure size 432x288 with 1 Axes>"
      ]
     },
     "metadata": {},
     "output_type": "display_data"
    }
   ],
   "source": [
    "plot_loss(zero_bias_history, \"Zero Bias\", 0)\n",
    "plot_loss(careful_bias_history, \"Careful Bias\", 1)"
   ]
  },
  {
   "cell_type": "code",
   "execution_count": 126,
   "metadata": {},
   "outputs": [
    {
     "data": {
      "text/plain": [
       "<tensorflow.python.training.checkpointable.util.CheckpointLoadStatus at 0x198a28d9f28>"
      ]
     },
     "execution_count": 126,
     "metadata": {},
     "output_type": "execute_result"
    },
    {
     "data": {
      "text/plain": [
       "<tf.Variable 'AssignVariableOp_110' shape=(1,) dtype=float32>"
      ]
     },
     "execution_count": 126,
     "metadata": {},
     "output_type": "execute_result"
    },
    {
     "name": "stdout",
     "output_type": "stream",
     "text": [
      "_________________________________________________________________\n",
      "Layer (type)                 Output Shape              Param #   \n",
      "=================================================================\n",
      "dense_102 (Dense)            (None, 24)                744       \n",
      "_________________________________________________________________\n",
      "dense_103 (Dense)            (None, 12)                300       \n",
      "_________________________________________________________________\n",
      "dropout_34 (Dropout)         (None, 12)                0         \n",
      "_________________________________________________________________\n",
      "dense_104 (Dense)            (None, 1)                 13        \n",
      "=================================================================\n",
      "Total params: 1,057\n",
      "Trainable params: 1,057\n",
      "Non-trainable params: 0\n",
      "_________________________________________________________________\n"
     ]
    }
   ],
   "source": [
    "Activation_f = ['tanh']\n",
    "model2 = make_model()\n",
    "model2.load_weights(initial_weights)\n",
    "model2.layers[-1].bias.assign([0.0])\n",
    "zero_bias_history = model2.fit(\n",
    "    train_features,\n",
    "    train_labels,\n",
    "    batch_size=BATCH_SIZE,\n",
    "    epochs=20,\n",
    "    validation_data=(val_features, val_labels), \n",
    "    verbose=0)\n",
    "\n",
    "model2.summary()"
   ]
  },
  {
   "cell_type": "code",
   "execution_count": 127,
   "metadata": {},
   "outputs": [
    {
     "data": {
      "image/png": "[encoded data removed]",
      "text/plain": [
       "<Figure size 432x288 with 1 Axes>"
      ]
     },
     "metadata": {},
     "output_type": "display_data"
    }
   ],
   "source": [
    "plot_loss(zero_bias_history, \"Zero Bias\", 0)"
   ]
  },
  {
   "cell_type": "code",
   "execution_count": 128,
   "metadata": {},
   "outputs": [
    {
     "data": {
      "image/png": "[encoded data removed]",
      "text/plain": [
       "<Figure size 432x288 with 1 Axes>"
      ]
     },
     "metadata": {},
     "output_type": "display_data"
    }
   ],
   "source": [
    "plot_loss(zero_bias_history, \"Zero Bias\", 0)\n",
    "plot_loss(careful_bias_history, \"Careful Bias\", 1)"
   ]
  },
  {
   "cell_type": "code",
   "execution_count": 129,
   "metadata": {},
   "outputs": [
    {
     "data": {
      "text/plain": [
       "<tensorflow.python.training.checkpointable.util.CheckpointLoadStatus at 0x198a56eee80>"
      ]
     },
     "execution_count": 129,
     "metadata": {},
     "output_type": "execute_result"
    },
    {
     "data": {
      "text/plain": [
       "<tf.Variable 'AssignVariableOp_117' shape=(1,) dtype=float32>"
      ]
     },
     "execution_count": 129,
     "metadata": {},
     "output_type": "execute_result"
    },
    {
     "name": "stdout",
     "output_type": "stream",
     "text": [
      "_________________________________________________________________\n",
      "Layer (type)                 Output Shape              Param #   \n",
      "=================================================================\n",
      "dense_99 (Dense)             (None, 24)                744       \n",
      "_________________________________________________________________\n",
      "dense_100 (Dense)            (None, 12)                300       \n",
      "_________________________________________________________________\n",
      "dropout_33 (Dropout)         (None, 12)                0         \n",
      "_________________________________________________________________\n",
      "dense_101 (Dense)            (None, 1)                 13        \n",
      "=================================================================\n",
      "Total params: 1,057\n",
      "Trainable params: 1,057\n",
      "Non-trainable params: 0\n",
      "_________________________________________________________________\n"
     ]
    }
   ],
   "source": [
    "Activation_f = ['softmax']\n",
    "model3 = make_model()\n",
    "model3.load_weights(initial_weights)\n",
    "model3.layers[-1].bias.assign([0.0])\n",
    "zero_bias_history = model3.fit(\n",
    "    train_features,\n",
    "    train_labels,\n",
    "    batch_size=BATCH_SIZE,\n",
    "    epochs=20,\n",
    "    validation_data=(val_features, val_labels), \n",
    "    verbose=0)\n",
    "model.summary()"
   ]
  },
  {
   "cell_type": "code",
   "execution_count": 130,
   "metadata": {},
   "outputs": [
    {
     "data": {
      "image/png": "[encoded data removed]",
      "text/plain": [
       "<Figure size 432x288 with 1 Axes>"
      ]
     },
     "metadata": {},
     "output_type": "display_data"
    }
   ],
   "source": [
    "plot_loss(zero_bias_history, \"Zero Bias\", 0)"
   ]
  },
  {
   "cell_type": "code",
   "execution_count": 131,
   "metadata": {},
   "outputs": [
    {
     "data": {
      "image/png": "[encoded data removed]",
      "text/plain": [
       "<Figure size 432x288 with 1 Axes>"
      ]
     },
     "metadata": {},
     "output_type": "display_data"
    }
   ],
   "source": [
    "plot_loss(zero_bias_history, \"Zero Bias\", 0)\n",
    "plot_loss(careful_bias_history, \"Careful Bias\", 1)"
   ]
  },
  {
   "cell_type": "code",
   "execution_count": 132,
   "metadata": {
    "scrolled": true
   },
   "outputs": [
    {
     "data": {
      "text/plain": [
       "<tensorflow.python.training.checkpointable.util.CheckpointLoadStatus at 0x198a84f6dd8>"
      ]
     },
     "execution_count": 132,
     "metadata": {},
     "output_type": "execute_result"
    },
    {
     "name": "stdout",
     "output_type": "stream",
     "text": [
      "Train on 455 samples, validate on 114 samples\n",
      "Epoch 1/10\n",
      "360/455 [======================>.......] - ETA: 0s - loss: 0.9820 - tp: 14.0000 - fp: 5.0000 - tn: 133.0000 - fn: 208.0000 - accuracy: 0.4083 - precision: 0.7368 - recall: 0.0631 WARNING:tensorflow:Early stopping conditioned on metric `val_auc` which is not available. Available metrics are: loss,tp,fp,tn,fn,accuracy,precision,recall,val_loss,val_tp,val_fp,val_tn,val_fn,val_accuracy,val_precision,val_recall\n",
      "455/455 [==============================] - 1s 3ms/sample - loss: 0.9416 - tp: 28.0000 - fp: 7.0000 - tn: 162.0000 - fn: 258.0000 - accuracy: 0.4176 - precision: 0.8000 - recall: 0.0979 - val_loss: 0.7372 - val_tp: 6.0000 - val_fp: 0.0000e+00 - val_tn: 43.0000 - val_fn: 65.0000 - val_accuracy: 0.4298 - val_precision: 1.0000 - val_recall: 0.0845\n",
      "Epoch 2/10\n",
      "380/455 [========================>.....] - ETA: 0s - loss: 0.6396 - tp: 99.0000 - fp: 4.0000 - tn: 135.0000 - fn: 142.0000 - accuracy: 0.6158 - precision: 0.9612 - recall: 0.4108WARNING:tensorflow:Early stopping conditioned on metric `val_auc` which is not available. Available metrics are: loss,tp,fp,tn,fn,accuracy,precision,recall,val_loss,val_tp,val_fp,val_tn,val_fn,val_accuracy,val_precision,val_recall\n",
      "455/455 [==============================] - 0s 184us/sample - loss: 0.6137 - tp: 126.0000 - fp: 6.0000 - tn: 163.0000 - fn: 160.0000 - accuracy: 0.6352 - precision: 0.9545 - recall: 0.4406 - val_loss: 0.5001 - val_tp: 47.0000 - val_fp: 2.0000 - val_tn: 41.0000 - val_fn: 24.0000 - val_accuracy: 0.7719 - val_precision: 0.9592 - val_recall: 0.6620\n",
      "Epoch 3/10\n",
      "340/455 [=====================>........] - ETA: 0s - loss: 0.4535 - tp: 140.0000 - fp: 5.0000 - tn: 124.0000 - fn: 71.0000 - accuracy: 0.7765 - precision: 0.9655 - recall: 0.6635WARNING:tensorflow:Early stopping conditioned on metric `val_auc` which is not available. Available metrics are: loss,tp,fp,tn,fn,accuracy,precision,recall,val_loss,val_tp,val_fp,val_tn,val_fn,val_accuracy,val_precision,val_recall\n",
      "455/455 [==============================] - 0s 197us/sample - loss: 0.4404 - tp: 196.0000 - fp: 8.0000 - tn: 161.0000 - fn: 90.0000 - accuracy: 0.7846 - precision: 0.9608 - recall: 0.6853 - val_loss: 0.3721 - val_tp: 60.0000 - val_fp: 4.0000 - val_tn: 39.0000 - val_fn: 11.0000 - val_accuracy: 0.8684 - val_precision: 0.9375 - val_recall: 0.8451\n",
      "Epoch 4/10\n",
      "360/455 [======================>.......] - ETA: 0s - loss: 0.3382 - tp: 188.0000 - fp: 7.0000 - tn: 127.0000 - fn: 38.0000 - accuracy: 0.8750 - precision: 0.9641 - recall: 0.8319WARNING:tensorflow:Early stopping conditioned on metric `val_auc` which is not available. Available metrics are: loss,tp,fp,tn,fn,accuracy,precision,recall,val_loss,val_tp,val_fp,val_tn,val_fn,val_accuracy,val_precision,val_recall\n",
      "455/455 [==============================] - 0s 191us/sample - loss: 0.3455 - tp: 238.0000 - fp: 12.0000 - tn: 157.0000 - fn: 48.0000 - accuracy: 0.8681 - precision: 0.9520 - recall: 0.8322 - val_loss: 0.2954 - val_tp: 64.0000 - val_fp: 5.0000 - val_tn: 38.0000 - val_fn: 7.0000 - val_accuracy: 0.8947 - val_precision: 0.9275 - val_recall: 0.9014\n",
      "Epoch 5/10\n",
      "360/455 [======================>.......] - ETA: 0s - loss: 0.2726 - tp: 199.0000 - fp: 10.0000 - tn: 128.0000 - fn: 23.0000 - accuracy: 0.9083 - precision: 0.9522 - recall: 0.8964WARNING:tensorflow:Early stopping conditioned on metric `val_auc` which is not available. Available metrics are: loss,tp,fp,tn,fn,accuracy,precision,recall,val_loss,val_tp,val_fp,val_tn,val_fn,val_accuracy,val_precision,val_recall\n",
      "455/455 [==============================] - 0s 189us/sample - loss: 0.2671 - tp: 262.0000 - fp: 14.0000 - tn: 155.0000 - fn: 24.0000 - accuracy: 0.9165 - precision: 0.9493 - recall: 0.9161 - val_loss: 0.2452 - val_tp: 67.0000 - val_fp: 4.0000 - val_tn: 39.0000 - val_fn: 4.0000 - val_accuracy: 0.9298 - val_precision: 0.9437 - val_recall: 0.9437\n",
      "Epoch 6/10\n",
      "360/455 [======================>.......] - ETA: 0s - loss: 0.3564 - tp: 11.0000 - fp: 2.0000 - tn: 6.0000 - fn: 1.0000 - accuracy: 0.8500 - precision: 0.8462 - recall: 0.91 - ETA: 0s - loss: 0.2536 - tp: 195.0000 - fp: 12.0000 - tn: 127.0000 - fn: 26.0000 - accuracy: 0.8944 - precision: 0.9420 - recall: 0.8824WARNING:tensorflow:Early stopping conditioned on metric `val_auc` which is not available. Available metrics are: loss,tp,fp,tn,fn,accuracy,precision,recall,val_loss,val_tp,val_fp,val_tn,val_fn,val_accuracy,val_precision,val_recall\n",
      "455/455 [==============================] - 0s 191us/sample - loss: 0.2444 - tp: 257.0000 - fp: 14.0000 - tn: 155.0000 - fn: 29.0000 - accuracy: 0.9055 - precision: 0.9483 - recall: 0.8986 - val_loss: 0.2110 - val_tp: 68.0000 - val_fp: 5.0000 - val_tn: 38.0000 - val_fn: 3.0000 - val_accuracy: 0.9298 - val_precision: 0.9315 - val_recall: 0.9577\n",
      "Epoch 7/10\n",
      "360/455 [======================>.......] - ETA: 0s - loss: 0.2084 - tp: 208.0000 - fp: 8.0000 - tn: 134.0000 - fn: 10.0000 - accuracy: 0.9500 - precision: 0.9630 - recall: 0.9541WARNING:tensorflow:Early stopping conditioned on metric `val_auc` which is not available. Available metrics are: loss,tp,fp,tn,fn,accuracy,precision,recall,val_loss,val_tp,val_fp,val_tn,val_fn,val_accuracy,val_precision,val_recall\n",
      "455/455 [==============================] - 0s 191us/sample - loss: 0.2040 - tp: 275.0000 - fp: 11.0000 - tn: 158.0000 - fn: 11.0000 - accuracy: 0.9516 - precision: 0.9615 - recall: 0.9615 - val_loss: 0.1871 - val_tp: 68.0000 - val_fp: 5.0000 - val_tn: 38.0000 - val_fn: 3.0000 - val_accuracy: 0.9298 - val_precision: 0.9315 - val_recall: 0.9577\n",
      "Epoch 8/10\n",
      "340/455 [=====================>........] - ETA: 0s - loss: 0.1759 - tp: 202.0000 - fp: 8.0000 - tn: 121.0000 - fn: 9.0000 - accuracy: 0.9500 - precision: 0.9619 - recall: 0.9573 WARNING:tensorflow:Early stopping conditioned on metric `val_auc` which is not available. Available metrics are: loss,tp,fp,tn,fn,accuracy,precision,recall,val_loss,val_tp,val_fp,val_tn,val_fn,val_accuracy,val_precision,val_recall\n",
      "455/455 [==============================] - 0s 197us/sample - loss: 0.1840 - tp: 273.0000 - fp: 11.0000 - tn: 158.0000 - fn: 13.0000 - accuracy: 0.9473 - precision: 0.9613 - recall: 0.9545 - val_loss: 0.1700 - val_tp: 68.0000 - val_fp: 5.0000 - val_tn: 38.0000 - val_fn: 3.0000 - val_accuracy: 0.9298 - val_precision: 0.9315 - val_recall: 0.9577\n",
      "Epoch 9/10\n",
      "360/455 [======================>.......] - ETA: 0s - loss: 0.1661 - tp: 221.0000 - fp: 7.0000 - tn: 125.0000 - fn: 7.0000 - accuracy: 0.9611 - precision: 0.9693 - recall: 0.9693 WARNING:tensorflow:Early stopping conditioned on metric `val_auc` which is not available. Available metrics are: loss,tp,fp,tn,fn,accuracy,precision,recall,val_loss,val_tp,val_fp,val_tn,val_fn,val_accuracy,val_precision,val_recall\n",
      "455/455 [==============================] - 0s 189us/sample - loss: 0.1668 - tp: 277.0000 - fp: 8.0000 - tn: 161.0000 - fn: 9.0000 - accuracy: 0.9626 - precision: 0.9719 - recall: 0.9685 - val_loss: 0.1580 - val_tp: 69.0000 - val_fp: 5.0000 - val_tn: 38.0000 - val_fn: 2.0000 - val_accuracy: 0.9386 - val_precision: 0.9324 - val_recall: 0.9718\n",
      "Epoch 10/10\n",
      "380/455 [========================>.....] - ETA: 0s - loss: 0.1576 - tp: 231.0000 - fp: 8.0000 - tn: 137.0000 - fn: 4.0000 - accuracy: 0.9684 - precision: 0.9665 - recall: 0.9830 WARNING:tensorflow:Early stopping conditioned on metric `val_auc` which is not available. Available metrics are: loss,tp,fp,tn,fn,accuracy,precision,recall,val_loss,val_tp,val_fp,val_tn,val_fn,val_accuracy,val_precision,val_recall\n",
      "455/455 [==============================] - 0s 184us/sample - loss: 0.1511 - tp: 280.0000 - fp: 9.0000 - tn: 160.0000 - fn: 6.0000 - accuracy: 0.9670 - precision: 0.9689 - recall: 0.9790 - val_loss: 0.1478 - val_tp: 69.0000 - val_fp: 5.0000 - val_tn: 38.0000 - val_fn: 2.0000 - val_accuracy: 0.9386 - val_precision: 0.9324 - val_recall: 0.9718\n"
     ]
    }
   ],
   "source": [
    "# Train Model \n",
    "Activation_f = ['tanh']\n",
    "model = make_model()\n",
    "model.load_weights(initial_weights)\n",
    "baseline_history = model.fit(\n",
    "    train_features,\n",
    "    train_labels,\n",
    "    batch_size=BATCH_SIZE,\n",
    "    epochs=EPOCHS,\n",
    "    callbacks = [early_stopping],\n",
    "    validation_data=(val_features, val_labels))"
   ]
  },
  {
   "cell_type": "code",
   "execution_count": 140,
   "metadata": {},
   "outputs": [
    {
     "data": {
      "text/plain": [
       "<Figure size 1080x720 with 0 Axes>"
      ]
     },
     "execution_count": 140,
     "metadata": {},
     "output_type": "execute_result"
    },
    {
     "data": {
      "image/png": "[encoded data removed]",
      "text/plain": [
       "<Figure size 1080x720 with 4 Axes>"
      ]
     },
     "metadata": {},
     "output_type": "display_data"
    }
   ],
   "source": [
    "# Check triaining history\n",
    "\n",
    "def plot_metrics(history):\n",
    "    metrics =  ['loss', 'accuracy', 'precision', 'recall']\n",
    "    for n, metric in enumerate(metrics):\n",
    "        name = metric.replace(\"_\",\" \").capitalize()\n",
    "        plt.subplot(2,2,n+1)\n",
    "        plt.plot(history.epoch,  history.history[metric], color=colors[n], label='Train')\n",
    "        plt.plot(history.epoch, history.history['val_'+metric],\n",
    "            color=colors[n], linestyle=\"--\", label='Val')\n",
    "        plt.xlabel('Epoch')\n",
    "        plt.ylabel(name)\n",
    "        if metric == 'loss':\n",
    "            plt.ylim([0.0,1.01]) #plt.ylim()[2]\n",
    "        elif metric == 'accuracy':\n",
    "            plt.ylim([0.4,1.01])\n",
    "        elif metric == 'recall':\n",
    "            plt.ylim([0.0,1.01])\n",
    "        else:\n",
    "            plt.ylim([0.4,1.01])\n",
    "\n",
    "        plt.legend()\n",
    "plt.figure(figsize=(15,10))        \n",
    "plot_metrics(baseline_history)"
   ]
  },
  {
   "cell_type": "code",
   "execution_count": null,
   "metadata": {},
   "outputs": [],
   "source": [
    "def plot_search_results(grid, score):\n",
    " \n",
    "    #--- Results from grid search\n",
    "    results = grid.cv_results_\n",
    "    means_test = results['mean_test_score']\n",
    "    stds_test = results['std_test_score']\n",
    "    means_train = results['mean_train_score']\n",
    "    stds_train = results['std_train_score']\n",
    "    testset = np.array(score)\n",
    "    \n",
    "    \n",
    "    #knn_testset = np.array(knn_ts_score)\n",
    "    #poly_testset = np.array(poly_testset_score)\n",
    "    #sigmoid_testset = np.array(sigmoid_testset_score)\n",
    "    #dtree_testset = np.array(dtree_testset_score)\n",
    "    #gb_testset = np.array(gb_testset_score)\n",
    "\n",
    "    #--- Getting indexes of values per hyper-parameter\n",
    "    masks=[]\n",
    "    masks_names= list(grid.best_params_.keys())\n",
    "    for p_k, p_v in grid.best_params_.items():\n",
    "        masks.append(list(results['param_'+p_k].data==p_v))\n",
    "\n",
    "    params=grid.param_grid\n",
    "    \n",
    "    #--- Ploting results\n",
    "    fig, ax = plt.subplots(1,len(params),sharex='none', sharey='all',figsize=(20,5))\n",
    "    #fig = plot_figure(style_label='classic') #################\n",
    "    fig.suptitle('Scores vs. Parameters')\n",
    "    ax[0].set_ylabel('Sensitivity')\n",
    "    #fig.text(0.04, 0.5, 'Recall', va='center', rotation='vertical')\n",
    "    pram_preformace_in_best = {}\n",
    "    for i, p in enumerate(masks_names):\n",
    "        m = np.stack(masks[:i] + masks[i+1:])\n",
    "        pram_preformace_in_best\n",
    "        best_parms_mask = m.all(axis=0)\n",
    "        best_index = np.where(best_parms_mask)[0]\n",
    "        x = np.array(params[p])\n",
    "        y_1 = np.array(means_train[best_index])\n",
    "        e_1 = np.array(stds_train[best_index])\n",
    "        y_2 = np.array(means_test[best_index])\n",
    "        e_2 = np.array(stds_test[best_index])\n",
    "        y_3 = np.array(testset[best_index])\n",
    "        \n",
    "        ax[i].set_xlabel(p.upper())\n",
    "        ax[i].plot(x,y_1,color=\"#0abab5\", label='Train Score',linestyle='--',marker ='o')\n",
    "        ax[i].plot(x,y_2,color=\"#EE82EE\", label='5fold-Cross-validation Score',linestyle='--',marker ='o')\n",
    "        ax[i].plot(x,y_3,color='b', label='Test Score',linestyle='-',marker ='^')\n",
    "        ax[i].fill_between(x, y_1-e_1,y_1+e_1,alpha=0.1,\n",
    "                     color=\"#0abab5\")\n",
    "        ax[i].fill_between(x, y_2-e_2,y_2+e_2,alpha=0.1,\n",
    "                     color=\"#EE82EE\")\n",
    "        ax[i].legend()\n",
    "\n",
    "    plt.show()\n",
    "\n",
    "\n",
    "    \n",
    "plot_search_results(grid_knn, knn_ts_score)"
   ]
  },
  {
   "cell_type": "code",
   "execution_count": 141,
   "metadata": {},
   "outputs": [],
   "source": [
    "train_predictions_baseline = model.predict(train_features, batch_size=BATCH_SIZE)\n",
    "test_predictions_baseline = model.predict(test_features, batch_size=BATCH_SIZE)"
   ]
  },
  {
   "cell_type": "code",
   "execution_count": 151,
   "metadata": {},
   "outputs": [],
   "source": [
    "def plot_cm(labels, predictions, p=0.5):\n",
    "    cm = confusion_matrix(labels, predictions > p)\n",
    "    plt.figure(figsize=(4,4))\n",
    "    sns.heatmap(cm, annot=True, fmt=\"d\")\n",
    "    plt.title('Confusion matrix @{:.2f}'.format(p))\n",
    "    plt.ylabel('Actual label')\n",
    "    plt.xlabel('Predicted label')\n",
    "\n",
    "    print('Breast Cancer Detected (True Posatives): ', cm[0][0])\n",
    "    print('Breast Cancer Missed (False Negatives): ', cm[0][1])\n",
    "    print('Breast Cancer Incorrectlys Detected (False Negatives): ', cm[1][0])\n",
    "    print('Breast Cancer Correctly Not Detected (True Positives): ', cm[1][1])\n",
    "    print('Total Observations: ', np.sum(cm[1]))\n",
    "    print('Real Recall: ', cm[0][0]/ (cm[0][0] + cm[0][1]))\n",
    "    print('*** 0 is the malignant, so confusion matrix and the Detection/Errors are opposite. ****')"
   ]
  },
  {
   "cell_type": "code",
   "execution_count": 152,
   "metadata": {},
   "outputs": [
    {
     "name": "stdout",
     "output_type": "stream",
     "text": [
      "loss :  0.13438389672521958\n",
      "tp :  64.0\n",
      "fp :  3.0\n",
      "tn :  45.0\n",
      "fn :  2.0\n",
      "accuracy :  0.95614034\n",
      "precision :  0.95522386\n",
      "recall :  0.969697\n",
      "\n",
      "Breast Cancer Detected (True Posatives):  45\n",
      "Breast Cancer Missed (False Negatives):  3\n",
      "Breast Cancer Incorrectlys Detected (False Negatives):  2\n",
      "Breast Cancer Correctly Not Detected (True Positives):  64\n",
      "Total Observations:  66\n",
      "Real Recall:  0.9375\n",
      "*** 0 is the malignant, so confusion matrix and the Detection/Errors are opposite. ****\n"
     ]
    },
    {
     "data": {
      "image/png": "[encoded data removed]",
      "text/plain": [
       "<Figure size 288x288 with 2 Axes>"
      ]
     },
     "metadata": {},
     "output_type": "display_data"
    }
   ],
   "source": [
    "baseline_results = model.evaluate(test_features, test_labels,\n",
    "                                  batch_size=BATCH_SIZE, verbose=0)\n",
    "for name, value in zip(model.metrics_names, baseline_results):\n",
    "    print(name, ': ', value)\n",
    "print()\n",
    "\n",
    "plot_cm(test_labels, test_predictions_baseline)"
   ]
  },
  {
   "cell_type": "code",
   "execution_count": 155,
   "metadata": {},
   "outputs": [],
   "source": [
    "def plot_roc(name, labels, predictions, **kwargs):\n",
    "    fn, tn, _ = sklearn.metrics.roc_curve(labels, predictions)\n",
    "\n",
    "    plt.plot(100*fn, 100*tn, label=name, linewidth=2, **kwargs)\n",
    "    plt.xlabel('False positives [%]')\n",
    "    plt.ylabel('True positives [%]')\n",
    "    plt.xlim([-0.5,100])\n",
    "    plt.ylim([0,100.5])\n",
    "    plt.grid(True)\n",
    "    ax = plt.gca()\n",
    "    ax.set_aspect('equal')"
   ]
  },
  {
   "cell_type": "code",
   "execution_count": 156,
   "metadata": {},
   "outputs": [
    {
     "data": {
      "text/plain": [
       "[<matplotlib.lines.Line2D at 0x198ab76bd30>]"
      ]
     },
     "execution_count": 156,
     "metadata": {},
     "output_type": "execute_result"
    },
    {
     "data": {
      "text/plain": [
       "<matplotlib.legend.Legend at 0x198abb2c9e8>"
      ]
     },
     "execution_count": 156,
     "metadata": {},
     "output_type": "execute_result"
    },
    {
     "data": {
      "image/png": "[encoded data removed]",
      "text/plain": [
       "<Figure size 432x288 with 1 Axes>"
      ]
     },
     "metadata": {},
     "output_type": "display_data"
    }
   ],
   "source": [
    "plot_roc(\"Train Baseline\", train_labels, train_predictions_baseline, color=colors[0])\n",
    "plot_roc(\"Test Baseline\", test_labels, test_predictions_baseline, color=colors[0], linestyle='--')\n",
    "plt.plot(np.arange(100),np.arange(100),ls=':',alpha=0.5) # x=y\n",
    "plt.legend(loc='lower right')"
   ]
  },
  {
   "cell_type": "code",
   "execution_count": 157,
   "metadata": {},
   "outputs": [
    {
     "name": "stdout",
     "output_type": "stream",
     "text": [
      "Weight for class 0: 1.34\n",
      "Weight for class 1: 0.80\n"
     ]
    }
   ],
   "source": [
    "# Scaling by total/2 helps keep the loss to a similar magnitude.\n",
    "# The sum of the weights of all examples stays the same.\n",
    "weight_for_0 = (1 / neg)*(total)/2.0 \n",
    "weight_for_1 = (1 / pos)*(total)/2.0\n",
    "\n",
    "class_weight = {0: weight_for_0, 1: weight_for_1}\n",
    "\n",
    "print('Weight for class 0: {:.2f}'.format(weight_for_0))\n",
    "print('Weight for class 1: {:.2f}'.format(weight_for_1))"
   ]
  },
  {
   "cell_type": "code",
   "execution_count": 158,
   "metadata": {},
   "outputs": [
    {
     "data": {
      "text/plain": [
       "<tensorflow.python.training.checkpointable.util.CheckpointLoadStatus at 0x198abd2e978>"
      ]
     },
     "execution_count": 158,
     "metadata": {},
     "output_type": "execute_result"
    },
    {
     "name": "stdout",
     "output_type": "stream",
     "text": [
      "Train on 455 samples, validate on 114 samples\n",
      "Epoch 1/10\n",
      "380/455 [========================>.....] - ETA: 0s - loss: 0.8357 - tp: 13.0000 - fp: 5.0000 - tn: 138.0000 - fn: 224.0000 - accuracy: 0.3974 - precision: 0.7222 - recall: 0.0549         WARNING:tensorflow:Early stopping conditioned on metric `val_auc` which is not available. Available metrics are: loss,tp,fp,tn,fn,accuracy,precision,recall,val_loss,val_tp,val_fp,val_tn,val_fn,val_accuracy,val_precision,val_recall\n",
      "455/455 [==============================] - 1s 3ms/sample - loss: 0.8032 - tp: 23.0000 - fp: 5.0000 - tn: 164.0000 - fn: 263.0000 - accuracy: 0.4110 - precision: 0.8214 - recall: 0.0804 - val_loss: 0.7519 - val_tp: 5.0000 - val_fp: 0.0000e+00 - val_tn: 43.0000 - val_fn: 66.0000 - val_accuracy: 0.4211 - val_precision: 1.0000 - val_recall: 0.0704\n",
      "Epoch 2/10\n",
      "340/455 [=====================>........] - ETA: 0s - loss: 0.5322 - tp: 88.0000 - fp: 6.0000 - tn: 123.0000 - fn: 123.0000 - accuracy: 0.6206 - precision: 0.9362 - recall: 0.4171WARNING:tensorflow:Early stopping conditioned on metric `val_auc` which is not available. Available metrics are: loss,tp,fp,tn,fn,accuracy,precision,recall,val_loss,val_tp,val_fp,val_tn,val_fn,val_accuracy,val_precision,val_recall\n",
      "455/455 [==============================] - 0s 193us/sample - loss: 0.5314 - tp: 120.0000 - fp: 6.0000 - tn: 163.0000 - fn: 166.0000 - accuracy: 0.6220 - precision: 0.9524 - recall: 0.4196 - val_loss: 0.5069 - val_tp: 44.0000 - val_fp: 0.0000e+00 - val_tn: 43.0000 - val_fn: 27.0000 - val_accuracy: 0.7632 - val_precision: 1.0000 - val_recall: 0.6197\n",
      "Epoch 3/10\n",
      "380/455 [========================>.....] - ETA: 0s - loss: 0.4037 - tp: 162.0000 - fp: 7.0000 - tn: 130.0000 - fn: 81.0000 - accuracy: 0.7684 - precision: 0.9586 - recall: 0.6667WARNING:tensorflow:Early stopping conditioned on metric `val_auc` which is not available. Available metrics are: loss,tp,fp,tn,fn,accuracy,precision,recall,val_loss,val_tp,val_fp,val_tn,val_fn,val_accuracy,val_precision,val_recall\n",
      "455/455 [==============================] - 0s 182us/sample - loss: 0.3917 - tp: 191.0000 - fp: 7.0000 - tn: 162.0000 - fn: 95.0000 - accuracy: 0.7758 - precision: 0.9646 - recall: 0.6678 - val_loss: 0.3747 - val_tp: 57.0000 - val_fp: 2.0000 - val_tn: 41.0000 - val_fn: 14.0000 - val_accuracy: 0.8596 - val_precision: 0.9661 - val_recall: 0.8028\n",
      "Epoch 4/10\n",
      "340/455 [=====================>........] - ETA: 0s - loss: 0.3373 - tp: 166.0000 - fp: 6.0000 - tn: 120.0000 - fn: 48.0000 - accuracy: 0.8412 - precision: 0.9651 - recall: 0.7757WARNING:tensorflow:Early stopping conditioned on metric `val_auc` which is not available. Available metrics are: loss,tp,fp,tn,fn,accuracy,precision,recall,val_loss,val_tp,val_fp,val_tn,val_fn,val_accuracy,val_precision,val_recall\n",
      "455/455 [==============================] - 0s 204us/sample - loss: 0.3248 - tp: 223.0000 - fp: 6.0000 - tn: 163.0000 - fn: 63.0000 - accuracy: 0.8484 - precision: 0.9738 - recall: 0.7797 - val_loss: 0.2976 - val_tp: 62.0000 - val_fp: 3.0000 - val_tn: 40.0000 - val_fn: 9.0000 - val_accuracy: 0.8947 - val_precision: 0.9538 - val_recall: 0.8732\n",
      "Epoch 5/10\n",
      "340/455 [=====================>........] - ETA: 0s - loss: 0.2754 - tp: 183.0000 - fp: 6.0000 - tn: 120.0000 - fn: 31.0000 - accuracy: 0.8912 - precision: 0.9683 - recall: 0.8551WARNING:tensorflow:Early stopping conditioned on metric `val_auc` which is not available. Available metrics are: loss,tp,fp,tn,fn,accuracy,precision,recall,val_loss,val_tp,val_fp,val_tn,val_fn,val_accuracy,val_precision,val_recall\n",
      "455/455 [==============================] - 0s 199us/sample - loss: 0.2683 - tp: 246.0000 - fp: 8.0000 - tn: 161.0000 - fn: 40.0000 - accuracy: 0.8945 - precision: 0.9685 - recall: 0.8601 - val_loss: 0.2446 - val_tp: 65.0000 - val_fp: 3.0000 - val_tn: 40.0000 - val_fn: 6.0000 - val_accuracy: 0.9211 - val_precision: 0.9559 - val_recall: 0.9155\n",
      "Epoch 6/10\n",
      "360/455 [======================>.......] - ETA: 0s - loss: 0.2263 - tp: 204.0000 - fp: 9.0000 - tn: 125.0000 - fn: 22.0000 - accuracy: 0.9139 - precision: 0.9577 - recall: 0.9027WARNING:tensorflow:Early stopping conditioned on metric `val_auc` which is not available. Available metrics are: loss,tp,fp,tn,fn,accuracy,precision,recall,val_loss,val_tp,val_fp,val_tn,val_fn,val_accuracy,val_precision,val_recall\n",
      "455/455 [==============================] - 0s 188us/sample - loss: 0.2197 - tp: 260.0000 - fp: 9.0000 - tn: 160.0000 - fn: 26.0000 - accuracy: 0.9231 - precision: 0.9665 - recall: 0.9091 - val_loss: 0.2088 - val_tp: 67.0000 - val_fp: 2.0000 - val_tn: 41.0000 - val_fn: 4.0000 - val_accuracy: 0.9474 - val_precision: 0.9710 - val_recall: 0.9437\n",
      "Epoch 7/10\n",
      "360/455 [======================>.......] - ETA: 0s - loss: 0.1895 - tp: 217.0000 - fp: 6.0000 - tn: 123.0000 - fn: 14.0000 - accuracy: 0.9444 - precision: 0.9731 - recall: 0.9394WARNING:tensorflow:Early stopping conditioned on metric `val_auc` which is not available. Available metrics are: loss,tp,fp,tn,fn,accuracy,precision,recall,val_loss,val_tp,val_fp,val_tn,val_fn,val_accuracy,val_precision,val_recall\n",
      "455/455 [==============================] - 0s 184us/sample - loss: 0.1918 - tp: 266.0000 - fp: 7.0000 - tn: 162.0000 - fn: 20.0000 - accuracy: 0.9407 - precision: 0.9744 - recall: 0.9301 - val_loss: 0.1828 - val_tp: 68.0000 - val_fp: 2.0000 - val_tn: 41.0000 - val_fn: 3.0000 - val_accuracy: 0.9561 - val_precision: 0.9714 - val_recall: 0.9577\n",
      "Epoch 8/10\n",
      "340/455 [=====================>........] - ETA: 0s - loss: 0.1755 - tp: 205.0000 - fp: 5.0000 - tn: 118.0000 - fn: 12.0000 - accuracy: 0.9500 - precision: 0.9762 - recall: 0.9447WARNING:tensorflow:Early stopping conditioned on metric `val_auc` which is not available. Available metrics are: loss,tp,fp,tn,fn,accuracy,precision,recall,val_loss,val_tp,val_fp,val_tn,val_fn,val_accuracy,val_precision,val_recall\n",
      "455/455 [==============================] - 0s 232us/sample - loss: 0.1725 - tp: 270.0000 - fp: 7.0000 - tn: 162.0000 - fn: 16.0000 - accuracy: 0.9495 - precision: 0.9747 - recall: 0.9441 - val_loss: 0.1633 - val_tp: 68.0000 - val_fp: 2.0000 - val_tn: 41.0000 - val_fn: 3.0000 - val_accuracy: 0.9561 - val_precision: 0.9714 - val_recall: 0.9577\n",
      "Epoch 9/10\n",
      "320/455 [====================>.........] - ETA: 0s - loss: 0.1432 - tp: 190.0000 - fp: 2.0000 - tn: 115.0000 - fn: 13.0000 - accuracy: 0.9531 - precision: 0.9896 - recall: 0.9360WARNING:tensorflow:Early stopping conditioned on metric `val_auc` which is not available. Available metrics are: loss,tp,fp,tn,fn,accuracy,precision,recall,val_loss,val_tp,val_fp,val_tn,val_fn,val_accuracy,val_precision,val_recall\n",
      "455/455 [==============================] - 0s 208us/sample - loss: 0.1523 - tp: 271.0000 - fp: 7.0000 - tn: 162.0000 - fn: 15.0000 - accuracy: 0.9516 - precision: 0.9748 - recall: 0.9476 - val_loss: 0.1498 - val_tp: 68.0000 - val_fp: 2.0000 - val_tn: 41.0000 - val_fn: 3.0000 - val_accuracy: 0.9561 - val_precision: 0.9714 - val_recall: 0.9577\n",
      "Epoch 10/10\n",
      "440/455 [============================>.] - ETA: 0s - loss: 0.1405 - tp: 265.0000 - fp: 5.0000 - tn: 160.0000 - fn: 10.0000 - accuracy: 0.9659 - precision: 0.9815 - recall: 0.9636    WARNING:tensorflow:Early stopping conditioned on metric `val_auc` which is not available. Available metrics are: loss,tp,fp,tn,fn,accuracy,precision,recall,val_loss,val_tp,val_fp,val_tn,val_fn,val_accuracy,val_precision,val_recall\n",
      "455/455 [==============================] - 0s 151us/sample - loss: 0.1410 - tp: 276.0000 - fp: 6.0000 - tn: 163.0000 - fn: 10.0000 - accuracy: 0.9648 - precision: 0.9787 - recall: 0.9650 - val_loss: 0.1396 - val_tp: 68.0000 - val_fp: 2.0000 - val_tn: 41.0000 - val_fn: 3.0000 - val_accuracy: 0.9561 - val_precision: 0.9714 - val_recall: 0.9577\n"
     ]
    }
   ],
   "source": [
    "Activation_f = ['tanh']\n",
    "weighted_model = make_model()\n",
    "weighted_model.load_weights(initial_weights)\n",
    "\n",
    "weighted_history = weighted_model.fit(\n",
    "    train_features,\n",
    "    train_labels,\n",
    "    batch_size=BATCH_SIZE,\n",
    "    epochs=EPOCHS,\n",
    "    callbacks = [early_stopping],\n",
    "    validation_data=(val_features, val_labels),\n",
    "    # The class weights go here\n",
    "    class_weight=class_weight) "
   ]
  },
  {
   "cell_type": "code",
   "execution_count": 160,
   "metadata": {},
   "outputs": [
    {
     "data": {
      "text/plain": [
       "<Figure size 1080x720 with 0 Axes>"
      ]
     },
     "execution_count": 160,
     "metadata": {},
     "output_type": "execute_result"
    },
    {
     "data": {
      "image/png": "[encoded data removed]",
      "text/plain": [
       "<Figure size 1080x720 with 4 Axes>"
      ]
     },
     "metadata": {},
     "output_type": "display_data"
    }
   ],
   "source": [
    "plt.figure(figsize=(15,10))     \n",
    "plot_metrics(weighted_history)"
   ]
  },
  {
   "cell_type": "code",
   "execution_count": 162,
   "metadata": {},
   "outputs": [],
   "source": [
    "train_predictions_weighted = weighted_model.predict(train_features, batch_size=BATCH_SIZE)\n",
    "test_predictions_weighted = weighted_model.predict(test_features, batch_size=BATCH_SIZE)"
   ]
  },
  {
   "cell_type": "code",
   "execution_count": 163,
   "metadata": {},
   "outputs": [
    {
     "name": "stdout",
     "output_type": "stream",
     "text": [
      "loss :  0.1268022134900093\n",
      "tp :  63.0\n",
      "fp :  2.0\n",
      "tn :  46.0\n",
      "fn :  3.0\n",
      "accuracy :  0.95614034\n",
      "precision :  0.9692308\n",
      "recall :  0.95454544\n",
      "\n",
      "Breast Cancer Detected (True Posatives):  46\n",
      "Breast Cancer Missed (False Negatives):  2\n",
      "Breast Cancer Incorrectlys Detected (False Negatives):  3\n",
      "Breast Cancer Correctly Not Detected (True Positives):  63\n",
      "Total Observations:  66\n",
      "Real Recall:  0.9583333333333334\n",
      "*** 0 is the malignant, so confusion matrix and the Detection/Errors are opposite. ****\n"
     ]
    },
    {
     "data": {
      "image/png": "[encoded data removed]",
      "text/plain": [
       "<Figure size 288x288 with 2 Axes>"
      ]
     },
     "metadata": {},
     "output_type": "display_data"
    }
   ],
   "source": [
    "weighted_results = weighted_model.evaluate(test_features, test_labels,\n",
    "                                           batch_size=BATCH_SIZE, verbose=0)\n",
    "for name, value in zip(weighted_model.metrics_names, weighted_results):\n",
    "  print(name, ': ', value)\n",
    "print()\n",
    "\n",
    "plot_cm(test_labels, test_predictions_weighted)"
   ]
  },
  {
   "cell_type": "code",
   "execution_count": 164,
   "metadata": {},
   "outputs": [
    {
     "data": {
      "text/plain": [
       "[<matplotlib.lines.Line2D at 0x198ada2b9e8>]"
      ]
     },
     "execution_count": 164,
     "metadata": {},
     "output_type": "execute_result"
    },
    {
     "data": {
      "text/plain": [
       "<matplotlib.legend.Legend at 0x198ada2bd68>"
      ]
     },
     "execution_count": 164,
     "metadata": {},
     "output_type": "execute_result"
    },
    {
     "data": {
      "image/png": "[encoded data removed]",
      "text/plain": [
       "<Figure size 432x288 with 1 Axes>"
      ]
     },
     "metadata": {},
     "output_type": "display_data"
    }
   ],
   "source": [
    "plot_roc(\"Train Baseline\", train_labels, train_predictions_baseline, color=colors[0])\n",
    "plot_roc(\"Test Baseline\", test_labels, test_predictions_baseline, color=colors[0], linestyle='--')\n",
    "\n",
    "plot_roc(\"Train Weighted\", train_labels, train_predictions_weighted, color=colors[1])\n",
    "plot_roc(\"Test Weighted\", test_labels, test_predictions_weighted, color=colors[1], linestyle='--')\n",
    "\n",
    "plt.plot(np.arange(100),np.arange(100),ls=':',alpha=0.5) # x=y\n",
    "plt.legend(loc='lower right')"
   ]
  },
  {
   "cell_type": "markdown",
   "metadata": {},
   "source": [
    "# KNN"
   ]
  },
  {
   "cell_type": "code",
   "execution_count": 17,
   "metadata": {},
   "outputs": [
    {
     "data": {
      "text/plain": [
       "StandardScaler(copy=True, with_mean=True, with_std=True)"
      ]
     },
     "execution_count": 17,
     "metadata": {},
     "output_type": "execute_result"
    },
    {
     "data": {
      "text/plain": [
       "array([[ 1.09706398, -2.07333501,  1.26993369, ...,  2.29607613,\n",
       "         2.75062224,  1.93701461],\n",
       "       [ 1.82982061, -0.35363241,  1.68595471, ...,  1.0870843 ,\n",
       "        -0.24388967,  0.28118999],\n",
       "       [ 1.57988811,  0.45618695,  1.56650313, ...,  1.95500035,\n",
       "         1.152255  ,  0.20139121],\n",
       "       ...,\n",
       "       [ 0.70228425,  2.0455738 ,  0.67267578, ...,  0.41406869,\n",
       "        -1.10454895, -0.31840916],\n",
       "       [ 1.83834103,  2.33645719,  1.98252415, ...,  2.28998549,\n",
       "         1.91908301,  2.21963528],\n",
       "       [-1.80840125,  1.22179204, -1.81438851, ..., -1.74506282,\n",
       "        -0.04813821, -0.75120669]])"
      ]
     },
     "execution_count": 17,
     "metadata": {},
     "output_type": "execute_result"
    }
   ],
   "source": [
    "#--- Scale our data: For KNN, it is better to scale the data\n",
    "\n",
    "from sklearn.preprocessing import StandardScaler\n",
    "scaler = StandardScaler()\n",
    "scaler.fit(df_feat)\n",
    "scaled_features = scaler.transform(df_feat)\n",
    "scaled_features"
   ]
  },
  {
   "cell_type": "code",
   "execution_count": 18,
   "metadata": {},
   "outputs": [
    {
     "data": {
      "text/html": [
       "<div>\n",
       "<style scoped>\n",
       "    .dataframe tbody tr th:only-of-type {\n",
       "        vertical-align: middle;\n",
       "    }\n",
       "\n",
       "    .dataframe tbody tr th {\n",
       "        vertical-align: top;\n",
       "    }\n",
       "\n",
       "    .dataframe thead th {\n",
       "        text-align: right;\n",
       "    }\n",
       "</style>\n",
       "<table border=\"1\" class=\"dataframe\">\n",
       "  <thead>\n",
       "    <tr style=\"text-align: right;\">\n",
       "      <th></th>\n",
       "      <th>mean radius</th>\n",
       "      <th>mean texture</th>\n",
       "      <th>mean perimeter</th>\n",
       "      <th>mean area</th>\n",
       "      <th>mean smoothness</th>\n",
       "      <th>mean compactness</th>\n",
       "      <th>mean concavity</th>\n",
       "      <th>mean concave points</th>\n",
       "      <th>mean symmetry</th>\n",
       "      <th>mean fractal dimension</th>\n",
       "      <th>...</th>\n",
       "      <th>worst radius</th>\n",
       "      <th>worst texture</th>\n",
       "      <th>worst perimeter</th>\n",
       "      <th>worst area</th>\n",
       "      <th>worst smoothness</th>\n",
       "      <th>worst compactness</th>\n",
       "      <th>worst concavity</th>\n",
       "      <th>worst concave points</th>\n",
       "      <th>worst symmetry</th>\n",
       "      <th>worst fractal dimension</th>\n",
       "    </tr>\n",
       "  </thead>\n",
       "  <tbody>\n",
       "    <tr>\n",
       "      <th>0</th>\n",
       "      <td>1.097064</td>\n",
       "      <td>-2.073335</td>\n",
       "      <td>1.269934</td>\n",
       "      <td>0.984375</td>\n",
       "      <td>1.568466</td>\n",
       "      <td>3.283515</td>\n",
       "      <td>2.652874</td>\n",
       "      <td>2.532475</td>\n",
       "      <td>2.217515</td>\n",
       "      <td>2.255747</td>\n",
       "      <td>...</td>\n",
       "      <td>1.886690</td>\n",
       "      <td>-1.359293</td>\n",
       "      <td>2.303601</td>\n",
       "      <td>2.001237</td>\n",
       "      <td>1.307686</td>\n",
       "      <td>2.616665</td>\n",
       "      <td>2.109526</td>\n",
       "      <td>2.296076</td>\n",
       "      <td>2.750622</td>\n",
       "      <td>1.937015</td>\n",
       "    </tr>\n",
       "    <tr>\n",
       "      <th>1</th>\n",
       "      <td>1.829821</td>\n",
       "      <td>-0.353632</td>\n",
       "      <td>1.685955</td>\n",
       "      <td>1.908708</td>\n",
       "      <td>-0.826962</td>\n",
       "      <td>-0.487072</td>\n",
       "      <td>-0.023846</td>\n",
       "      <td>0.548144</td>\n",
       "      <td>0.001392</td>\n",
       "      <td>-0.868652</td>\n",
       "      <td>...</td>\n",
       "      <td>1.805927</td>\n",
       "      <td>-0.369203</td>\n",
       "      <td>1.535126</td>\n",
       "      <td>1.890489</td>\n",
       "      <td>-0.375612</td>\n",
       "      <td>-0.430444</td>\n",
       "      <td>-0.146749</td>\n",
       "      <td>1.087084</td>\n",
       "      <td>-0.243890</td>\n",
       "      <td>0.281190</td>\n",
       "    </tr>\n",
       "    <tr>\n",
       "      <th>2</th>\n",
       "      <td>1.579888</td>\n",
       "      <td>0.456187</td>\n",
       "      <td>1.566503</td>\n",
       "      <td>1.558884</td>\n",
       "      <td>0.942210</td>\n",
       "      <td>1.052926</td>\n",
       "      <td>1.363478</td>\n",
       "      <td>2.037231</td>\n",
       "      <td>0.939685</td>\n",
       "      <td>-0.398008</td>\n",
       "      <td>...</td>\n",
       "      <td>1.511870</td>\n",
       "      <td>-0.023974</td>\n",
       "      <td>1.347475</td>\n",
       "      <td>1.456285</td>\n",
       "      <td>0.527407</td>\n",
       "      <td>1.082932</td>\n",
       "      <td>0.854974</td>\n",
       "      <td>1.955000</td>\n",
       "      <td>1.152255</td>\n",
       "      <td>0.201391</td>\n",
       "    </tr>\n",
       "    <tr>\n",
       "      <th>3</th>\n",
       "      <td>-0.768909</td>\n",
       "      <td>0.253732</td>\n",
       "      <td>-0.592687</td>\n",
       "      <td>-0.764464</td>\n",
       "      <td>3.283553</td>\n",
       "      <td>3.402909</td>\n",
       "      <td>1.915897</td>\n",
       "      <td>1.451707</td>\n",
       "      <td>2.867383</td>\n",
       "      <td>4.910919</td>\n",
       "      <td>...</td>\n",
       "      <td>-0.281464</td>\n",
       "      <td>0.133984</td>\n",
       "      <td>-0.249939</td>\n",
       "      <td>-0.550021</td>\n",
       "      <td>3.394275</td>\n",
       "      <td>3.893397</td>\n",
       "      <td>1.989588</td>\n",
       "      <td>2.175786</td>\n",
       "      <td>6.046041</td>\n",
       "      <td>4.935010</td>\n",
       "    </tr>\n",
       "    <tr>\n",
       "      <th>4</th>\n",
       "      <td>1.750297</td>\n",
       "      <td>-1.151816</td>\n",
       "      <td>1.776573</td>\n",
       "      <td>1.826229</td>\n",
       "      <td>0.280372</td>\n",
       "      <td>0.539340</td>\n",
       "      <td>1.371011</td>\n",
       "      <td>1.428493</td>\n",
       "      <td>-0.009560</td>\n",
       "      <td>-0.562450</td>\n",
       "      <td>...</td>\n",
       "      <td>1.298575</td>\n",
       "      <td>-1.466770</td>\n",
       "      <td>1.338539</td>\n",
       "      <td>1.220724</td>\n",
       "      <td>0.220556</td>\n",
       "      <td>-0.313395</td>\n",
       "      <td>0.613179</td>\n",
       "      <td>0.729259</td>\n",
       "      <td>-0.868353</td>\n",
       "      <td>-0.397100</td>\n",
       "    </tr>\n",
       "  </tbody>\n",
       "</table>\n",
       "<p>5 rows × 30 columns</p>\n",
       "</div>"
      ],
      "text/plain": [
       "   mean radius  mean texture  mean perimeter  mean area  mean smoothness  \\\n",
       "0     1.097064     -2.073335        1.269934   0.984375         1.568466   \n",
       "1     1.829821     -0.353632        1.685955   1.908708        -0.826962   \n",
       "2     1.579888      0.456187        1.566503   1.558884         0.942210   \n",
       "3    -0.768909      0.253732       -0.592687  -0.764464         3.283553   \n",
       "4     1.750297     -1.151816        1.776573   1.826229         0.280372   \n",
       "\n",
       "   mean compactness  mean concavity  mean concave points  mean symmetry  \\\n",
       "0          3.283515        2.652874             2.532475       2.217515   \n",
       "1         -0.487072       -0.023846             0.548144       0.001392   \n",
       "2          1.052926        1.363478             2.037231       0.939685   \n",
       "3          3.402909        1.915897             1.451707       2.867383   \n",
       "4          0.539340        1.371011             1.428493      -0.009560   \n",
       "\n",
       "   mean fractal dimension  ...  worst radius  worst texture  worst perimeter  \\\n",
       "0                2.255747  ...      1.886690      -1.359293         2.303601   \n",
       "1               -0.868652  ...      1.805927      -0.369203         1.535126   \n",
       "2               -0.398008  ...      1.511870      -0.023974         1.347475   \n",
       "3                4.910919  ...     -0.281464       0.133984        -0.249939   \n",
       "4               -0.562450  ...      1.298575      -1.466770         1.338539   \n",
       "\n",
       "   worst area  worst smoothness  worst compactness  worst concavity  \\\n",
       "0    2.001237          1.307686           2.616665         2.109526   \n",
       "1    1.890489         -0.375612          -0.430444        -0.146749   \n",
       "2    1.456285          0.527407           1.082932         0.854974   \n",
       "3   -0.550021          3.394275           3.893397         1.989588   \n",
       "4    1.220724          0.220556          -0.313395         0.613179   \n",
       "\n",
       "   worst concave points  worst symmetry  worst fractal dimension  \n",
       "0              2.296076        2.750622                 1.937015  \n",
       "1              1.087084       -0.243890                 0.281190  \n",
       "2              1.955000        1.152255                 0.201391  \n",
       "3              2.175786        6.046041                 4.935010  \n",
       "4              0.729259       -0.868353                -0.397100  \n",
       "\n",
       "[5 rows x 30 columns]"
      ]
     },
     "execution_count": 18,
     "metadata": {},
     "output_type": "execute_result"
    }
   ],
   "source": [
    "#--- Put Scaled feature in a data frame\n",
    "df_feat = pd.DataFrame(scaled_features, columns=df_feat.columns)\n",
    "df_feat.head()"
   ]
  },
  {
   "cell_type": "code",
   "execution_count": 19,
   "metadata": {},
   "outputs": [],
   "source": [
    "#--- Split Data: Train and Test data set\n",
    "\n",
    "from sklearn.model_selection import train_test_split\n",
    "\n",
    "X = df_feat #X = scaled_features\n",
    "#y = cancer['target']  -> We already assigned our TARGET to variable 'y'\n",
    "\n",
    "X_train, X_test, y_train, y_test = train_test_split(X, y, test_size=0.3, random_state=1)"
   ]
  },
  {
   "cell_type": "code",
   "execution_count": 20,
   "metadata": {},
   "outputs": [
    {
     "data": {
      "text/plain": [
       "KNeighborsClassifier(algorithm='auto', leaf_size=30, metric='minkowski',\n",
       "                     metric_params=None, n_jobs=None, n_neighbors=2, p=2,\n",
       "                     weights='uniform')"
      ]
     },
     "execution_count": 20,
     "metadata": {},
     "output_type": "execute_result"
    },
    {
     "data": {
      "text/plain": [
       "{'algorithm': 'auto',\n",
       " 'leaf_size': 30,\n",
       " 'metric': 'minkowski',\n",
       " 'metric_params': None,\n",
       " 'n_jobs': None,\n",
       " 'n_neighbors': 2,\n",
       " 'p': 2,\n",
       " 'weights': 'uniform'}"
      ]
     },
     "execution_count": 20,
     "metadata": {},
     "output_type": "execute_result"
    }
   ],
   "source": [
    "#--- KNN\n",
    "#--- set k and find a class \n",
    "random.seed(1)\n",
    "# number of class: According to our problem, we have 2 classes (binary case)\n",
    "k = 2 \n",
    "from sklearn.neighbors import KNeighborsClassifier\n",
    "#KNeighborsClassifier(n_neighbors=5, weights='uniform', algorithm='auto', \n",
    "#                     leaf_size=30, p=2, metric='minkowski', metric_params=None, n_jobs=None, **kwargs)\n",
    "knn = KNeighborsClassifier(n_neighbors=k)\n",
    "knn.fit(X_train, y_train)\n",
    "#knn.get_params()\n",
    "knn.get_params()"
   ]
  },
  {
   "cell_type": "code",
   "execution_count": 21,
   "metadata": {},
   "outputs": [],
   "source": [
    "pred_tr = knn.predict(X_train)"
   ]
  },
  {
   "cell_type": "code",
   "execution_count": 22,
   "metadata": {},
   "outputs": [
    {
     "data": {
      "text/plain": [
       "array([1, 0, 1, 0, 1, 0, 0, 0, 1, 1, 1, 0, 0, 1, 1, 1, 1, 1, 1, 0, 1, 1,\n",
       "       0, 1, 0, 1, 1, 0, 0, 0, 0, 1, 0, 0, 1, 1, 0, 1, 0, 1, 1, 0, 1, 1,\n",
       "       1, 0, 1, 1, 1, 0, 0, 0, 1, 1, 1, 1, 1, 0, 1, 1, 1, 0, 1, 1, 1, 1,\n",
       "       1, 0, 1, 1, 1, 1, 0, 0, 1, 0, 0, 1, 1, 0, 1, 0, 1, 0, 1, 1, 0, 1,\n",
       "       0, 1, 1, 0, 1, 1, 0, 0, 1, 0, 1, 1, 1, 1, 1, 1, 1, 1, 1, 1, 0, 0,\n",
       "       0, 1, 1, 1, 0, 0, 1, 1, 1, 1, 1, 0, 0, 1, 1, 0, 0, 0, 0, 0, 1, 1,\n",
       "       1, 0, 1, 0, 0, 1, 1, 1, 0, 0, 1, 0, 1, 0, 1, 1, 1, 0, 1, 1, 1, 0,\n",
       "       1, 1, 1, 1, 1, 1, 1, 1, 1, 0, 1, 1, 0, 0, 0, 1, 1])"
      ]
     },
     "execution_count": 22,
     "metadata": {},
     "output_type": "execute_result"
    }
   ],
   "source": [
    "# predict our Target for the test set\n",
    "pred = knn.predict(X_test)\n",
    "pred"
   ]
  },
  {
   "cell_type": "code",
   "execution_count": 23,
   "metadata": {},
   "outputs": [
    {
     "name": "stdout",
     "output_type": "stream",
     "text": [
      "Scores without Cross Validation\n",
      "\n",
      "<< Train Errror >>\n",
      "< Confusion Matrix >\n",
      "[[149   0]\n",
      " [ 11 238]]\n",
      "\n",
      "< Classification Report >\n",
      "              precision    recall  f1-score   support\n",
      "\n",
      "           0       0.93      1.00      0.96       149\n",
      "           1       1.00      0.96      0.98       249\n",
      "\n",
      "    accuracy                           0.97       398\n",
      "   macro avg       0.97      0.98      0.97       398\n",
      "weighted avg       0.97      0.97      0.97       398\n",
      "\n",
      "- Accuracy: 0.97 \n",
      "- Recall: 1.00   (=Sensitivity)\n",
      "- Precision: 0.93\n",
      "\n",
      "-----------------------------------------------------------------\n",
      "\n",
      "<<Test error>>\n",
      "< Confusion Matrix >\n",
      "[[ 61   2]\n",
      " [  3 105]]\n",
      "\n",
      "< Classification Report >\n",
      "              precision    recall  f1-score   support\n",
      "\n",
      "           0       0.95      0.97      0.96        63\n",
      "           1       0.98      0.97      0.98       108\n",
      "\n",
      "    accuracy                           0.97       171\n",
      "   macro avg       0.97      0.97      0.97       171\n",
      "weighted avg       0.97      0.97      0.97       171\n",
      "\n",
      "- Accuracy: 0.97 \n",
      "- Recall: 0.97   (=Sensitivity)\n",
      "- Precision: 0.95\n"
     ]
    }
   ],
   "source": [
    "# Evaluate our result\n",
    "print('Scores without Cross Validation\\n')\n",
    "from sklearn.metrics import classification_report, confusion_matrix, accuracy_score, recall_score, precision_score\n",
    "print('<< Train Errror >>')\n",
    "print('< Confusion Matrix >')\n",
    "print(confusion_matrix(y_train, pred_tr))\n",
    "print('\\n< Classification Report >')\n",
    "print(classification_report(y_train, pred_tr))\n",
    "\n",
    "accuracy = accuracy_score(y_train, pred_tr)\n",
    "#recall = recall_score(y_train, pred_tr) # not using it because our focused target is 0 not 1\n",
    "cm = confusion_matrix(y_train, pred_tr)\n",
    "recall = cm[0,0]/(cm[0,0]+cm[0,1])\n",
    "#precision = precision_score(y_train, pred_tr) # not using it because of the same reason above\n",
    "precision = cm[0,0]/(cm[0,0]+cm[1,0])\n",
    "\n",
    "print('- Accuracy: {:.2f} \\n- Recall: {:.2f}   (=Sensitivity)\\n- Precision: {:.2f}'.format(accuracy, recall, precision))\n",
    "print('\\n-----------------------------------------------------------------\\n')\n",
    "print('<<Test error>>')\n",
    "\n",
    "print('< Confusion Matrix >')\n",
    "print(confusion_matrix(y_test, pred))\n",
    "print('\\n< Classification Report >')\n",
    "print(classification_report(y_test, pred))\n",
    "\n",
    "accuracy = accuracy_score(y_test, pred)\n",
    "cm1 = confusion_matrix(y_test, pred)\n",
    "recall = cm1[0,0]/(cm1[0,0]+cm1[0,1])\n",
    "#precision = precision_score(y_test, pred) # not using it because of the same reason above\n",
    "precision = cm1[0,0]/(cm1[0,0]+cm1[1,0])\n",
    "#precision = precision_score(y_test, pred)\n",
    "print('- Accuracy: {:.2f} \\n- Recall: {:.2f}   (=Sensitivity)\\n- Precision: {:.2f}'.format(accuracy, recall, precision))\n"
   ]
  },
  {
   "cell_type": "markdown",
   "metadata": {},
   "source": [
    "## Experiment - Grid Search & Cross Validation"
   ]
  },
  {
   "cell_type": "code",
   "execution_count": 24,
   "metadata": {},
   "outputs": [
    {
     "name": "stdout",
     "output_type": "stream",
     "text": [
      "Fitting 5 folds for each of 12 candidates, totalling 60 fits\n",
      "[CV] algorithm=ball_tree, metric=euclidean ...........................\n",
      "[CV]  algorithm=ball_tree, metric=euclidean, score=(train=0.984, test=0.912), total=   0.0s\n",
      "[CV] algorithm=ball_tree, metric=euclidean ...........................\n",
      "[CV]  algorithm=ball_tree, metric=euclidean, score=(train=0.981, test=0.925), total=   0.0s\n",
      "[CV] algorithm=ball_tree, metric=euclidean ...........................\n",
      "[CV]  algorithm=ball_tree, metric=euclidean, score=(train=0.965, test=0.988), total=   0.0s\n",
      "[CV] algorithm=ball_tree, metric=euclidean ...........................\n",
      "[CV]  algorithm=ball_tree, metric=euclidean, score=(train=0.975, test=0.925), total=   0.0s\n",
      "[CV] algorithm=ball_tree, metric=euclidean ...........................\n",
      "[CV]  algorithm=ball_tree, metric=euclidean, score=(train=0.978, test=0.987), total=   0.0s\n",
      "[CV] algorithm=ball_tree, metric=manhattan ...........................\n",
      "[CV]  algorithm=ball_tree, metric=manhattan, score=(train=0.987, test=0.938), total=   0.0s\n",
      "[CV] algorithm=ball_tree, metric=manhattan ...........................\n",
      "[CV]  algorithm=ball_tree, metric=manhattan, score=(train=0.978, test=0.950), total=   0.0s\n",
      "[CV] algorithm=ball_tree, metric=manhattan ...........................\n",
      "[CV]  algorithm=ball_tree, metric=manhattan, score=(train=0.969, test=0.988), total=   0.0s\n",
      "[CV] algorithm=ball_tree, metric=manhattan ...........................\n",
      "[CV]  algorithm=ball_tree, metric=manhattan, score=(train=0.972, test=0.950), total=   0.0s\n",
      "[CV] algorithm=ball_tree, metric=manhattan ...........................\n",
      "[CV]  algorithm=ball_tree, metric=manhattan, score=(train=0.978, test=0.987), total=   0.0s\n",
      "[CV] algorithm=ball_tree, metric=chebyshev ...........................\n",
      "[CV]  algorithm=ball_tree, metric=chebyshev, score=(train=0.962, test=0.875), total=   0.0s\n",
      "[CV] algorithm=ball_tree, metric=chebyshev ...........................\n",
      "[CV]  algorithm=ball_tree, metric=chebyshev, score=(train=0.965, test=0.912), total=   0.0s\n",
      "[CV] algorithm=ball_tree, metric=chebyshev ...........................\n"
     ]
    },
    {
     "name": "stderr",
     "output_type": "stream",
     "text": [
      "[Parallel(n_jobs=1)]: Using backend SequentialBackend with 1 concurrent workers.\n",
      "[Parallel(n_jobs=1)]: Done   1 out of   1 | elapsed:    0.0s remaining:    0.0s\n",
      "[Parallel(n_jobs=1)]: Done   2 out of   2 | elapsed:    0.0s remaining:    0.0s\n"
     ]
    },
    {
     "name": "stdout",
     "output_type": "stream",
     "text": [
      "[CV]  algorithm=ball_tree, metric=chebyshev, score=(train=0.956, test=0.975), total=   0.0s\n",
      "[CV] algorithm=ball_tree, metric=chebyshev ...........................\n",
      "[CV]  algorithm=ball_tree, metric=chebyshev, score=(train=0.962, test=0.900), total=   0.0s\n",
      "[CV] algorithm=ball_tree, metric=chebyshev ...........................\n",
      "[CV]  algorithm=ball_tree, metric=chebyshev, score=(train=0.969, test=0.936), total=   0.0s\n",
      "[CV] algorithm=ball_tree, metric=minkowski ...........................\n",
      "[CV]  algorithm=ball_tree, metric=minkowski, score=(train=0.984, test=0.912), total=   0.0s\n",
      "[CV] algorithm=ball_tree, metric=minkowski ...........................\n",
      "[CV]  algorithm=ball_tree, metric=minkowski, score=(train=0.981, test=0.925), total=   0.0s\n",
      "[CV] algorithm=ball_tree, metric=minkowski ...........................\n",
      "[CV]  algorithm=ball_tree, metric=minkowski, score=(train=0.965, test=0.988), total=   0.0s\n",
      "[CV] algorithm=ball_tree, metric=minkowski ...........................\n",
      "[CV]  algorithm=ball_tree, metric=minkowski, score=(train=0.975, test=0.925), total=   0.0s\n",
      "[CV] algorithm=ball_tree, metric=minkowski ...........................\n",
      "[CV]  algorithm=ball_tree, metric=minkowski, score=(train=0.978, test=0.987), total=   0.0s\n",
      "[CV] algorithm=kd_tree, metric=euclidean .............................\n",
      "[CV]  algorithm=kd_tree, metric=euclidean, score=(train=0.984, test=0.912), total=   0.0s\n",
      "[CV] algorithm=kd_tree, metric=euclidean .............................\n",
      "[CV]  algorithm=kd_tree, metric=euclidean, score=(train=0.981, test=0.925), total=   0.0s\n",
      "[CV] algorithm=kd_tree, metric=euclidean .............................\n",
      "[CV]  algorithm=kd_tree, metric=euclidean, score=(train=0.965, test=0.988), total=   0.0s\n",
      "[CV] algorithm=kd_tree, metric=euclidean .............................\n",
      "[CV]  algorithm=kd_tree, metric=euclidean, score=(train=0.975, test=0.925), total=   0.0s\n",
      "[CV] algorithm=kd_tree, metric=euclidean .............................\n",
      "[CV]  algorithm=kd_tree, metric=euclidean, score=(train=0.978, test=0.987), total=   0.0s\n",
      "[CV] algorithm=kd_tree, metric=manhattan .............................\n",
      "[CV]  algorithm=kd_tree, metric=manhattan, score=(train=0.987, test=0.938), total=   0.0s\n",
      "[CV] algorithm=kd_tree, metric=manhattan .............................\n",
      "[CV]  algorithm=kd_tree, metric=manhattan, score=(train=0.978, test=0.950), total=   0.0s\n",
      "[CV] algorithm=kd_tree, metric=manhattan .............................\n",
      "[CV]  algorithm=kd_tree, metric=manhattan, score=(train=0.969, test=0.988), total=   0.0s\n",
      "[CV] algorithm=kd_tree, metric=manhattan .............................\n",
      "[CV]  algorithm=kd_tree, metric=manhattan, score=(train=0.972, test=0.950), total=   0.0s\n",
      "[CV] algorithm=kd_tree, metric=manhattan .............................\n",
      "[CV]  algorithm=kd_tree, metric=manhattan, score=(train=0.978, test=0.987), total=   0.0s\n",
      "[CV] algorithm=kd_tree, metric=chebyshev .............................\n",
      "[CV]  algorithm=kd_tree, metric=chebyshev, score=(train=0.962, test=0.875), total=   0.0s\n",
      "[CV] algorithm=kd_tree, metric=chebyshev .............................\n",
      "[CV]  algorithm=kd_tree, metric=chebyshev, score=(train=0.965, test=0.912), total=   0.0s\n",
      "[CV] algorithm=kd_tree, metric=chebyshev .............................\n",
      "[CV]  algorithm=kd_tree, metric=chebyshev, score=(train=0.956, test=0.975), total=   0.0s\n",
      "[CV] algorithm=kd_tree, metric=chebyshev .............................\n",
      "[CV]  algorithm=kd_tree, metric=chebyshev, score=(train=0.962, test=0.900), total=   0.0s\n",
      "[CV] algorithm=kd_tree, metric=chebyshev .............................\n",
      "[CV]  algorithm=kd_tree, metric=chebyshev, score=(train=0.969, test=0.936), total=   0.0s\n",
      "[CV] algorithm=kd_tree, metric=minkowski .............................\n",
      "[CV]  algorithm=kd_tree, metric=minkowski, score=(train=0.984, test=0.912), total=   0.0s\n",
      "[CV] algorithm=kd_tree, metric=minkowski .............................\n",
      "[CV]  algorithm=kd_tree, metric=minkowski, score=(train=0.981, test=0.925), total=   0.0s\n",
      "[CV] algorithm=kd_tree, metric=minkowski .............................\n",
      "[CV]  algorithm=kd_tree, metric=minkowski, score=(train=0.965, test=0.988), total=   0.0s\n",
      "[CV] algorithm=kd_tree, metric=minkowski .............................\n",
      "[CV]  algorithm=kd_tree, metric=minkowski, score=(train=0.975, test=0.925), total=   0.0s\n",
      "[CV] algorithm=kd_tree, metric=minkowski .............................\n",
      "[CV]  algorithm=kd_tree, metric=minkowski, score=(train=0.978, test=0.987), total=   0.0s\n",
      "[CV] algorithm=brute, metric=euclidean ...............................\n",
      "[CV]  algorithm=brute, metric=euclidean, score=(train=0.984, test=0.912), total=   0.0s\n",
      "[CV] algorithm=brute, metric=euclidean ...............................\n",
      "[CV]  algorithm=brute, metric=euclidean, score=(train=0.981, test=0.925), total=   0.0s\n",
      "[CV] algorithm=brute, metric=euclidean ...............................\n",
      "[CV]  algorithm=brute, metric=euclidean, score=(train=0.965, test=0.988), total=   0.0s\n",
      "[CV] algorithm=brute, metric=euclidean ...............................\n",
      "[CV]  algorithm=brute, metric=euclidean, score=(train=0.975, test=0.925), total=   0.0s\n",
      "[CV] algorithm=brute, metric=euclidean ...............................\n",
      "[CV]  algorithm=brute, metric=euclidean, score=(train=0.978, test=0.987), total=   0.0s\n",
      "[CV] algorithm=brute, metric=manhattan ...............................\n",
      "[CV]  algorithm=brute, metric=manhattan, score=(train=0.987, test=0.938), total=   0.0s\n",
      "[CV] algorithm=brute, metric=manhattan ...............................\n",
      "[CV]  algorithm=brute, metric=manhattan, score=(train=0.978, test=0.950), total=   0.0s\n",
      "[CV] algorithm=brute, metric=manhattan ...............................\n",
      "[CV]  algorithm=brute, metric=manhattan, score=(train=0.969, test=0.988), total=   0.0s\n",
      "[CV] algorithm=brute, metric=manhattan ...............................\n",
      "[CV]  algorithm=brute, metric=manhattan, score=(train=0.972, test=0.950), total=   0.0s\n",
      "[CV] algorithm=brute, metric=manhattan ...............................\n",
      "[CV]  algorithm=brute, metric=manhattan, score=(train=0.978, test=0.987), total=   0.0s\n",
      "[CV] algorithm=brute, metric=chebyshev ...............................\n",
      "[CV]  algorithm=brute, metric=chebyshev, score=(train=0.962, test=0.875), total=   0.0s\n",
      "[CV] algorithm=brute, metric=chebyshev ...............................\n",
      "[CV]  algorithm=brute, metric=chebyshev, score=(train=0.965, test=0.912), total=   0.0s\n",
      "[CV] algorithm=brute, metric=chebyshev ...............................\n",
      "[CV]  algorithm=brute, metric=chebyshev, score=(train=0.956, test=0.975), total=   0.0s\n",
      "[CV] algorithm=brute, metric=chebyshev ...............................\n",
      "[CV]  algorithm=brute, metric=chebyshev, score=(train=0.962, test=0.900), total=   0.0s\n",
      "[CV] algorithm=brute, metric=chebyshev ...............................\n",
      "[CV]  algorithm=brute, metric=chebyshev, score=(train=0.969, test=0.936), total=   0.0s\n",
      "[CV] algorithm=brute, metric=minkowski ...............................\n",
      "[CV]  algorithm=brute, metric=minkowski, score=(train=0.984, test=0.912), total=   0.0s\n",
      "[CV] algorithm=brute, metric=minkowski ...............................\n",
      "[CV]  algorithm=brute, metric=minkowski, score=(train=0.981, test=0.925), total=   0.0s\n",
      "[CV] algorithm=brute, metric=minkowski ...............................\n",
      "[CV]  algorithm=brute, metric=minkowski, score=(train=0.965, test=0.988), total=   0.0s\n",
      "[CV] algorithm=brute, metric=minkowski ...............................\n",
      "[CV]  algorithm=brute, metric=minkowski, score=(train=0.975, test=0.925), total=   0.0s\n",
      "[CV] algorithm=brute, metric=minkowski ...............................\n",
      "[CV]  algorithm=brute, metric=minkowski, score=(train=0.978, test=0.987), total=   0.0s\n"
     ]
    },
    {
     "name": "stderr",
     "output_type": "stream",
     "text": [
      "[Parallel(n_jobs=1)]: Done  60 out of  60 | elapsed:    0.9s finished\n",
      "C:\\Users\\14698\\AppData\\Local\\Continuum\\anaconda3\\lib\\site-packages\\sklearn\\model_selection\\_search.py:814: DeprecationWarning: The default of the `iid` parameter will change from True to False in version 0.22 and will be removed in 0.24. This will change numeric results when test-set sizes are unequal.\n",
      "  DeprecationWarning)\n"
     ]
    },
    {
     "data": {
      "text/plain": [
       "GridSearchCV(cv=5, error_score='raise-deprecating',\n",
       "             estimator=KNeighborsClassifier(algorithm='auto', leaf_size=30,\n",
       "                                            metric='minkowski',\n",
       "                                            metric_params=None, n_jobs=None,\n",
       "                                            n_neighbors=2, p=2,\n",
       "                                            weights='uniform'),\n",
       "             iid='warn', n_jobs=None,\n",
       "             param_grid={'algorithm': ['ball_tree', 'kd_tree', 'brute'],\n",
       "                         'metric': ['euclidean', 'manhattan', 'chebyshev',\n",
       "                                    'minkowski']},\n",
       "             pre_dispatch='2*n_jobs', refit=True, return_train_score=True,\n",
       "             scoring=None, verbose=3)"
      ]
     },
     "execution_count": 24,
     "metadata": {},
     "output_type": "execute_result"
    },
    {
     "data": {
      "text/plain": [
       "{'mean_fit_time': array([0.00218005, 0.00118933, 0.00139546, 0.00159612, 0.00139499,\n",
       "        0.00179305, 0.00139136, 0.00139589, 0.00099545, 0.00118413,\n",
       "        0.00138931, 0.00119691]),\n",
       " 'std_fit_time': array([3.80314490e-04, 3.81953189e-04, 4.88630836e-04, 4.87860777e-04,\n",
       "        4.86896459e-04, 4.02168049e-04, 4.87843738e-04, 4.91709969e-04,\n",
       "        3.96492319e-06, 3.89399675e-04, 4.79943988e-04, 3.99208097e-04]),\n",
       " 'mean_score_time': array([0.00338454, 0.00320225, 0.00418792, 0.00319185, 0.00319014,\n",
       "        0.00320177, 0.00359626, 0.00378208, 0.0037807 , 0.00300474,\n",
       "        0.00538554, 0.00279236]),\n",
       " 'std_score_time': array([4.92640645e-04, 3.93913453e-04, 4.00111630e-04, 3.99999295e-04,\n",
       "        3.98129119e-04, 3.97919491e-04, 4.87667691e-04, 3.88178760e-04,\n",
       "        7.31931596e-04, 1.61079234e-05, 1.49254015e-03, 3.98993617e-04]),\n",
       " 'param_algorithm': masked_array(data=['ball_tree', 'ball_tree', 'ball_tree', 'ball_tree',\n",
       "                    'kd_tree', 'kd_tree', 'kd_tree', 'kd_tree', 'brute',\n",
       "                    'brute', 'brute', 'brute'],\n",
       "              mask=[False, False, False, False, False, False, False, False,\n",
       "                    False, False, False, False],\n",
       "        fill_value='?',\n",
       "             dtype=object),\n",
       " 'param_metric': masked_array(data=['euclidean', 'manhattan', 'chebyshev', 'minkowski',\n",
       "                    'euclidean', 'manhattan', 'chebyshev', 'minkowski',\n",
       "                    'euclidean', 'manhattan', 'chebyshev', 'minkowski'],\n",
       "              mask=[False, False, False, False, False, False, False, False,\n",
       "                    False, False, False, False],\n",
       "        fill_value='?',\n",
       "             dtype=object),\n",
       " 'params': [{'algorithm': 'ball_tree', 'metric': 'euclidean'},\n",
       "  {'algorithm': 'ball_tree', 'metric': 'manhattan'},\n",
       "  {'algorithm': 'ball_tree', 'metric': 'chebyshev'},\n",
       "  {'algorithm': 'ball_tree', 'metric': 'minkowski'},\n",
       "  {'algorithm': 'kd_tree', 'metric': 'euclidean'},\n",
       "  {'algorithm': 'kd_tree', 'metric': 'manhattan'},\n",
       "  {'algorithm': 'kd_tree', 'metric': 'chebyshev'},\n",
       "  {'algorithm': 'kd_tree', 'metric': 'minkowski'},\n",
       "  {'algorithm': 'brute', 'metric': 'euclidean'},\n",
       "  {'algorithm': 'brute', 'metric': 'manhattan'},\n",
       "  {'algorithm': 'brute', 'metric': 'chebyshev'},\n",
       "  {'algorithm': 'brute', 'metric': 'minkowski'}],\n",
       " 'split0_test_score': array([0.9125, 0.9375, 0.875 , 0.9125, 0.9125, 0.9375, 0.875 , 0.9125,\n",
       "        0.9125, 0.9375, 0.875 , 0.9125]),\n",
       " 'split1_test_score': array([0.925 , 0.95  , 0.9125, 0.925 , 0.925 , 0.95  , 0.9125, 0.925 ,\n",
       "        0.925 , 0.95  , 0.9125, 0.925 ]),\n",
       " 'split2_test_score': array([0.9875, 0.9875, 0.975 , 0.9875, 0.9875, 0.9875, 0.975 , 0.9875,\n",
       "        0.9875, 0.9875, 0.975 , 0.9875]),\n",
       " 'split3_test_score': array([0.925, 0.95 , 0.9  , 0.925, 0.925, 0.95 , 0.9  , 0.925, 0.925,\n",
       "        0.95 , 0.9  , 0.925]),\n",
       " 'split4_test_score': array([0.98717949, 0.98717949, 0.93589744, 0.98717949, 0.98717949,\n",
       "        0.98717949, 0.93589744, 0.98717949, 0.98717949, 0.98717949,\n",
       "        0.93589744, 0.98717949]),\n",
       " 'mean_test_score': array([0.94723618, 0.96231156, 0.91959799, 0.94723618, 0.94723618,\n",
       "        0.96231156, 0.91959799, 0.94723618, 0.94723618, 0.96231156,\n",
       "        0.91959799, 0.94723618]),\n",
       " 'std_test_score': array([0.03286107, 0.0208183 , 0.03400224, 0.03286107, 0.03286107,\n",
       "        0.0208183 , 0.03400224, 0.03286107, 0.03286107, 0.0208183 ,\n",
       "        0.03400224, 0.03286107]),\n",
       " 'rank_test_score': array([ 4,  1, 10,  4,  4,  1, 10,  4,  4,  1, 10,  4]),\n",
       " 'split0_train_score': array([0.98427673, 0.98742138, 0.96226415, 0.98427673, 0.98427673,\n",
       "        0.98742138, 0.96226415, 0.98427673, 0.98427673, 0.98742138,\n",
       "        0.96226415, 0.98427673]),\n",
       " 'split1_train_score': array([0.98113208, 0.97798742, 0.96540881, 0.98113208, 0.98113208,\n",
       "        0.97798742, 0.96540881, 0.98113208, 0.98113208, 0.97798742,\n",
       "        0.96540881, 0.98113208]),\n",
       " 'split2_train_score': array([0.96540881, 0.96855346, 0.95597484, 0.96540881, 0.96540881,\n",
       "        0.96855346, 0.95597484, 0.96540881, 0.96540881, 0.96855346,\n",
       "        0.95597484, 0.96540881]),\n",
       " 'split3_train_score': array([0.97484277, 0.97169811, 0.96226415, 0.97484277, 0.97484277,\n",
       "        0.97169811, 0.96226415, 0.97484277, 0.97484277, 0.97169811,\n",
       "        0.96226415, 0.97484277]),\n",
       " 'split4_train_score': array([0.978125, 0.978125, 0.96875 , 0.978125, 0.978125, 0.978125,\n",
       "        0.96875 , 0.978125, 0.978125, 0.978125, 0.96875 , 0.978125]),\n",
       " 'mean_train_score': array([0.97675708, 0.97675708, 0.96293239, 0.97675708, 0.97675708,\n",
       "        0.97675708, 0.96293239, 0.97675708, 0.97675708, 0.97675708,\n",
       "        0.96293239, 0.97675708]),\n",
       " 'std_train_score': array([0.00648082, 0.00648082, 0.00422558, 0.00648082, 0.00648082,\n",
       "        0.00648082, 0.00422558, 0.00648082, 0.00648082, 0.00648082,\n",
       "        0.00422558, 0.00648082])}"
      ]
     },
     "execution_count": 24,
     "metadata": {},
     "output_type": "execute_result"
    },
    {
     "data": {
      "text/plain": [
       "['mean_fit_time',\n",
       " 'mean_score_time',\n",
       " 'mean_test_score',\n",
       " 'mean_train_score',\n",
       " 'param_algorithm',\n",
       " 'param_metric',\n",
       " 'params',\n",
       " 'rank_test_score',\n",
       " 'split0_test_score',\n",
       " 'split0_train_score',\n",
       " 'split1_test_score',\n",
       " 'split1_train_score',\n",
       " 'split2_test_score',\n",
       " 'split2_train_score',\n",
       " 'split3_test_score',\n",
       " 'split3_train_score',\n",
       " 'split4_test_score',\n",
       " 'split4_train_score',\n",
       " 'std_fit_time',\n",
       " 'std_score_time',\n",
       " 'std_test_score',\n",
       " 'std_train_score']"
      ]
     },
     "execution_count": 24,
     "metadata": {},
     "output_type": "execute_result"
    }
   ],
   "source": [
    "#--- Crossvalidation & Grid Search\n",
    "\n",
    "from sklearn.neighbors import DistanceMetric\n",
    "from sklearn.model_selection import GridSearchCV\n",
    "\n",
    "param_grid = {'algorithm': ['ball_tree', 'kd_tree', 'brute'], \n",
    "              'metric':['euclidean','manhattan', 'chebyshev', 'minkowski']}\n",
    "# metrics: https://scikit-learn.org/stable/modules/generated/sklearn.neighbors.DistanceMetric.html\n",
    "estimator = KNeighborsClassifier(n_neighbors=2)\n",
    "\n",
    "# k = 5\n",
    "grid_knn = GridSearchCV(estimator, param_grid, cv=5, verbose=3, return_train_score=True)\n",
    "grid_knn.fit(X_train, y_train)\n",
    "grid_knn.cv_results_\n",
    "sorted(grid_knn.cv_results_.keys())"
   ]
  },
  {
   "cell_type": "code",
   "execution_count": 25,
   "metadata": {},
   "outputs": [
    {
     "data": {
      "text/plain": [
       "[{'algorithm': 'ball_tree', 'metric': 'euclidean'},\n",
       " {'algorithm': 'ball_tree', 'metric': 'manhattan'},\n",
       " {'algorithm': 'ball_tree', 'metric': 'chebyshev'},\n",
       " {'algorithm': 'ball_tree', 'metric': 'minkowski'},\n",
       " {'algorithm': 'kd_tree', 'metric': 'euclidean'},\n",
       " {'algorithm': 'kd_tree', 'metric': 'manhattan'},\n",
       " {'algorithm': 'kd_tree', 'metric': 'chebyshev'},\n",
       " {'algorithm': 'kd_tree', 'metric': 'minkowski'},\n",
       " {'algorithm': 'brute', 'metric': 'euclidean'},\n",
       " {'algorithm': 'brute', 'metric': 'manhattan'},\n",
       " {'algorithm': 'brute', 'metric': 'chebyshev'},\n",
       " {'algorithm': 'brute', 'metric': 'minkowski'}]"
      ]
     },
     "execution_count": 25,
     "metadata": {},
     "output_type": "execute_result"
    }
   ],
   "source": [
    "grid_knn.cv_results_['params']"
   ]
  },
  {
   "cell_type": "code",
   "execution_count": 26,
   "metadata": {},
   "outputs": [
    {
     "data": {
      "text/plain": [
       "KNeighborsClassifier(algorithm='ball_tree', leaf_size=30, metric='manhattan',\n",
       "                     metric_params=None, n_jobs=None, n_neighbors=2, p=2,\n",
       "                     weights='uniform')"
      ]
     },
     "execution_count": 26,
     "metadata": {},
     "output_type": "execute_result"
    }
   ],
   "source": [
    "grid_knn.best_estimator_"
   ]
  },
  {
   "cell_type": "code",
   "execution_count": 27,
   "metadata": {},
   "outputs": [],
   "source": [
    "#--- Predict with the best estimator after Grid Search and Cross validation\n",
    "pred_knn_tr=grid_knn.best_estimator_.predict(X_train)\n",
    "pred_knn_ts=grid_knn.best_estimator_.predict(X_test)"
   ]
  },
  {
   "cell_type": "code",
   "execution_count": 28,
   "metadata": {},
   "outputs": [
    {
     "name": "stdout",
     "output_type": "stream",
     "text": [
      "[[149   0]\n",
      " [ 11 238]]\n",
      "              precision    recall  f1-score   support\n",
      "\n",
      "           0       0.93      1.00      0.96       149\n",
      "           1       1.00      0.96      0.98       249\n",
      "\n",
      "    accuracy                           0.97       398\n",
      "   macro avg       0.97      0.98      0.97       398\n",
      "weighted avg       0.97      0.97      0.97       398\n",
      "\n",
      "- Accuracy: 0.97 \n",
      "- Recall: 1.00   (=Sensitivity)\n",
      "- Precision: 0.93\n"
     ]
    }
   ],
   "source": [
    "# Results for Train Set\n",
    "\n",
    "print(confusion_matrix(y_train, pred_knn_tr))\n",
    "print(classification_report(y_train, pred_knn_tr))\n",
    "\n",
    "accuracy = accuracy_score(y_train,  pred_knn_tr)\n",
    "#recall = recall_score(y_train, pred_tr) # not using it because our focused target is 0 not 1\n",
    "cm = confusion_matrix(y_train,  pred_knn_tr)\n",
    "recall = cm[0,0]/(cm[0,0]+cm[0,1])\n",
    "#precision = precision_score(y_train, pred_tr) # not using it because of the same reason above\n",
    "precision = cm[0,0]/(cm[0,0]+cm[1,0])\n",
    "\n",
    "print('- Accuracy: {:.2f} \\n- Recall: {:.2f}   (=Sensitivity)\\n- Precision: {:.2f}'.format(accuracy, recall, precision))"
   ]
  },
  {
   "cell_type": "code",
   "execution_count": 161,
   "metadata": {},
   "outputs": [
    {
     "name": "stdout",
     "output_type": "stream",
     "text": [
      "[[ 60   3]\n",
      " [  5 103]]\n",
      "              precision    recall  f1-score   support\n",
      "\n",
      "           0       0.92      0.95      0.94        63\n",
      "           1       0.97      0.95      0.96       108\n",
      "\n",
      "    accuracy                           0.95       171\n",
      "   macro avg       0.95      0.95      0.95       171\n",
      "weighted avg       0.95      0.95      0.95       171\n",
      "\n",
      "- Accuracy: 0.95 \n",
      "- Recall: 0.95   (=Sensitivity)\n",
      "- Precision: 0.92\n"
     ]
    }
   ],
   "source": [
    "# Results for Test Set\n",
    "\n",
    "print(confusion_matrix(y_test, pred_knn_ts))\n",
    "print(classification_report(y_test, pred_knn_ts))\n",
    "\n",
    "accuracy = accuracy_score(y_test, pred_knn_ts)\n",
    "cm1 = confusion_matrix(y_test, pred_knn_ts)\n",
    "recall = cm1[0,0]/(cm1[0,0]+cm1[0,1])\n",
    "#precision = precision_score(y_test, pred) # not using it because of the same reason above\n",
    "precision = cm1[0,0]/(cm1[0,0]+cm1[1,0])\n",
    "#precision = precision_score(y_test, pred)\n",
    "print('- Accuracy: {:.2f} \\n- Recall: {:.2f}   (=Sensitivity)\\n- Precision: {:.2f}'.format(accuracy, recall, precision))\n"
   ]
  },
  {
   "cell_type": "code",
   "execution_count": 31,
   "metadata": {},
   "outputs": [
    {
     "data": {
      "text/plain": [
       "KNeighborsClassifier(algorithm='ball_tree', leaf_size=30, metric='euclidean',\n",
       "                     metric_params=None, n_jobs=None, n_neighbors=2, p=2,\n",
       "                     weights='uniform')"
      ]
     },
     "execution_count": 31,
     "metadata": {},
     "output_type": "execute_result"
    },
    {
     "data": {
      "text/plain": [
       "KNeighborsClassifier(algorithm='ball_tree', leaf_size=30, metric='manhattan',\n",
       "                     metric_params=None, n_jobs=None, n_neighbors=2, p=2,\n",
       "                     weights='uniform')"
      ]
     },
     "execution_count": 31,
     "metadata": {},
     "output_type": "execute_result"
    },
    {
     "data": {
      "text/plain": [
       "KNeighborsClassifier(algorithm='ball_tree', leaf_size=30, metric='chebyshev',\n",
       "                     metric_params=None, n_jobs=None, n_neighbors=2, p=2,\n",
       "                     weights='uniform')"
      ]
     },
     "execution_count": 31,
     "metadata": {},
     "output_type": "execute_result"
    },
    {
     "data": {
      "text/plain": [
       "KNeighborsClassifier(algorithm='ball_tree', leaf_size=30, metric='minkowski',\n",
       "                     metric_params=None, n_jobs=None, n_neighbors=2, p=2,\n",
       "                     weights='uniform')"
      ]
     },
     "execution_count": 31,
     "metadata": {},
     "output_type": "execute_result"
    },
    {
     "data": {
      "text/plain": [
       "KNeighborsClassifier(algorithm='kd_tree', leaf_size=30, metric='euclidean',\n",
       "                     metric_params=None, n_jobs=None, n_neighbors=2, p=2,\n",
       "                     weights='uniform')"
      ]
     },
     "execution_count": 31,
     "metadata": {},
     "output_type": "execute_result"
    },
    {
     "data": {
      "text/plain": [
       "KNeighborsClassifier(algorithm='kd_tree', leaf_size=30, metric='manhattan',\n",
       "                     metric_params=None, n_jobs=None, n_neighbors=2, p=2,\n",
       "                     weights='uniform')"
      ]
     },
     "execution_count": 31,
     "metadata": {},
     "output_type": "execute_result"
    },
    {
     "data": {
      "text/plain": [
       "KNeighborsClassifier(algorithm='kd_tree', leaf_size=30, metric='chebyshev',\n",
       "                     metric_params=None, n_jobs=None, n_neighbors=2, p=2,\n",
       "                     weights='uniform')"
      ]
     },
     "execution_count": 31,
     "metadata": {},
     "output_type": "execute_result"
    },
    {
     "data": {
      "text/plain": [
       "KNeighborsClassifier(algorithm='kd_tree', leaf_size=30, metric='minkowski',\n",
       "                     metric_params=None, n_jobs=None, n_neighbors=2, p=2,\n",
       "                     weights='uniform')"
      ]
     },
     "execution_count": 31,
     "metadata": {},
     "output_type": "execute_result"
    },
    {
     "data": {
      "text/plain": [
       "KNeighborsClassifier(algorithm='brute', leaf_size=30, metric='euclidean',\n",
       "                     metric_params=None, n_jobs=None, n_neighbors=2, p=2,\n",
       "                     weights='uniform')"
      ]
     },
     "execution_count": 31,
     "metadata": {},
     "output_type": "execute_result"
    },
    {
     "data": {
      "text/plain": [
       "KNeighborsClassifier(algorithm='brute', leaf_size=30, metric='manhattan',\n",
       "                     metric_params=None, n_jobs=None, n_neighbors=2, p=2,\n",
       "                     weights='uniform')"
      ]
     },
     "execution_count": 31,
     "metadata": {},
     "output_type": "execute_result"
    },
    {
     "data": {
      "text/plain": [
       "KNeighborsClassifier(algorithm='brute', leaf_size=30, metric='chebyshev',\n",
       "                     metric_params=None, n_jobs=None, n_neighbors=2, p=2,\n",
       "                     weights='uniform')"
      ]
     },
     "execution_count": 31,
     "metadata": {},
     "output_type": "execute_result"
    },
    {
     "data": {
      "text/plain": [
       "KNeighborsClassifier(algorithm='brute', leaf_size=30, metric='minkowski',\n",
       "                     metric_params=None, n_jobs=None, n_neighbors=2, p=2,\n",
       "                     weights='uniform')"
      ]
     },
     "execution_count": 31,
     "metadata": {},
     "output_type": "execute_result"
    },
    {
     "data": {
      "text/plain": [
       "[0.9722222222222222,\n",
       " 0.9537037037037037,\n",
       " 0.8981481481481481,\n",
       " 0.9722222222222222,\n",
       " 0.9722222222222222,\n",
       " 0.9537037037037037,\n",
       " 0.8981481481481481,\n",
       " 0.9722222222222222,\n",
       " 0.9722222222222222,\n",
       " 0.9537037037037037,\n",
       " 0.8981481481481481,\n",
       " 0.9722222222222222]"
      ]
     },
     "execution_count": 31,
     "metadata": {},
     "output_type": "execute_result"
    }
   ],
   "source": [
    "knn_ts_score =[]\n",
    "\n",
    "for i in range(len(grid_knn.cv_results_['params'])):\n",
    "    paramtrs = grid_knn.cv_results_['params'][i]\n",
    "    knn = KNeighborsClassifier(n_neighbors=2, algorithm = paramtrs['algorithm'], metric = paramtrs['metric'])\n",
    "    knn.fit(X_train, y_train)\n",
    "    pred = knn.predict(X_test)\n",
    "    cm1 = confusion_matrix(y_test, pred)\n",
    "    recall = cm1[1,1]/(cm1[1,0]+cm1[1,1])\n",
    "    knn_ts_score.append(recall)\n",
    "    \n",
    "knn_ts_score"
   ]
  },
  {
   "cell_type": "code",
   "execution_count": 50,
   "metadata": {},
   "outputs": [
    {
     "data": {
      "text/plain": [
       "<module 'matplotlib.pyplot' from 'C:\\\\Users\\\\14698\\\\AppData\\\\Local\\\\Continuum\\\\anaconda3\\\\lib\\\\site-packages\\\\matplotlib\\\\pyplot.py'>"
      ]
     },
     "execution_count": 50,
     "metadata": {},
     "output_type": "execute_result"
    },
    {
     "data": {
      "image/png": "[encoded data removed]",
      "text/plain": [
       "<Figure size 720x360 with 1 Axes>"
      ]
     },
     "metadata": {
      "needs_background": "light"
     },
     "output_type": "display_data"
    }
   ],
   "source": [
    "from sklearn.model_selection import learning_curve\n",
    "def plot_learning_curve(estimator, title, X, y, ylim=None, cv=None,\n",
    "                        n_jobs=None, train_sizes=np.linspace(.1, 1.0, 5)):\n",
    "\n",
    "    plt.figure(figsize=(10,5))\n",
    "    plt.title(title)\n",
    "    if ylim is not None:\n",
    "        plt.ylim(*ylim)\n",
    "    plt.xlabel(\"Training Size\")\n",
    "    plt.ylabel(\"Score\")\n",
    "    train_sizes, train_scores, test_scores = learning_curve(\n",
    "        estimator, X, y, cv=cv, n_jobs=n_jobs, train_sizes=train_sizes)\n",
    "    train_scores_mean = np.mean(train_scores, axis=1)\n",
    "    train_scores_std = np.std(train_scores, axis=1)\n",
    "    test_scores_mean = np.mean(test_scores, axis=1)\n",
    "    test_scores_std = np.std(test_scores, axis=1)\n",
    "    plt.grid()\n",
    "\n",
    "    plt.fill_between(train_sizes, train_scores_mean - train_scores_std,\n",
    "                     train_scores_mean + train_scores_std, alpha=0.1,\n",
    "                     color=\"#0abab5\")\n",
    "    plt.fill_between(train_sizes, test_scores_mean - test_scores_std,\n",
    "                     test_scores_mean + test_scores_std, alpha=0.1, color=\"#EE82EE\")\n",
    "    plt.plot(train_sizes, train_scores_mean, 'o-', color=\"#0abab5\",\n",
    "             label=\"Training score\")\n",
    "    plt.plot(train_sizes, test_scores_mean, 'o-', color=\"#EE82EE\",\n",
    "             label=\"Cross-validation score\")\n",
    "\n",
    "    plt.legend(loc=\"best\")\n",
    "    return plt\n",
    "\n",
    "\n",
    "#--- Plotting\n",
    "cv = 5      # number of folds\n",
    "n_jobs = -1\n",
    "\n",
    "X, y = X_train, y_train\n",
    "\n",
    "title = r\"Learning Curves of KNN)\"\n",
    "knn = KNeighborsClassifier(n_neighbors=2)\n",
    "estimator = knn\n",
    "\n",
    "plot_learning_curve(estimator, title, X, y, (0.5, 1.01), cv=cv, n_jobs=n_jobs)\n",
    "\n",
    "plt.show()"
   ]
  },
  {
   "cell_type": "code",
   "execution_count": null,
   "metadata": {},
   "outputs": [],
   "source": []
  },
  {
   "cell_type": "code",
   "execution_count": 32,
   "metadata": {},
   "outputs": [
    {
     "data": {
      "image/png": "[encoded data removed]",
      "text/plain": [
       "<Figure size 1440x360 with 2 Axes>"
      ]
     },
     "metadata": {
      "needs_background": "light"
     },
     "output_type": "display_data"
    }
   ],
   "source": [
    "def plot_search_results(grid, score):\n",
    " \n",
    "    #--- Results from grid search\n",
    "    results = grid.cv_results_\n",
    "    means_test = results['mean_test_score']\n",
    "    stds_test = results['std_test_score']\n",
    "    means_train = results['mean_train_score']\n",
    "    stds_train = results['std_train_score']\n",
    "    testset = np.array(score)\n",
    "    \n",
    "    \n",
    "    #knn_testset = np.array(knn_ts_score)\n",
    "    #poly_testset = np.array(poly_testset_score)\n",
    "    #sigmoid_testset = np.array(sigmoid_testset_score)\n",
    "    #dtree_testset = np.array(dtree_testset_score)\n",
    "    #gb_testset = np.array(gb_testset_score)\n",
    "\n",
    "    #--- Getting indexes of values per hyper-parameter\n",
    "    masks=[]\n",
    "    masks_names= list(grid.best_params_.keys())\n",
    "    for p_k, p_v in grid.best_params_.items():\n",
    "        masks.append(list(results['param_'+p_k].data==p_v))\n",
    "\n",
    "    params=grid.param_grid\n",
    "    \n",
    "    #--- Ploting results\n",
    "    fig, ax = plt.subplots(1,len(params),sharex='none', sharey='all',figsize=(20,5))\n",
    "    #fig = plot_figure(style_label='classic') #################\n",
    "    fig.suptitle('Scores vs. Parameters')\n",
    "    ax[0].set_ylabel('Sensitivity')\n",
    "    #fig.text(0.04, 0.5, 'Recall', va='center', rotation='vertical')\n",
    "    pram_preformace_in_best = {}\n",
    "    for i, p in enumerate(masks_names):\n",
    "        m = np.stack(masks[:i] + masks[i+1:])\n",
    "        pram_preformace_in_best\n",
    "        best_parms_mask = m.all(axis=0)\n",
    "        best_index = np.where(best_parms_mask)[0]\n",
    "        x = np.array(params[p])\n",
    "        y_1 = np.array(means_train[best_index])\n",
    "        e_1 = np.array(stds_train[best_index])\n",
    "        y_2 = np.array(means_test[best_index])\n",
    "        e_2 = np.array(stds_test[best_index])\n",
    "        y_3 = np.array(testset[best_index])\n",
    "        \n",
    "        ax[i].set_xlabel(p.upper())\n",
    "        ax[i].plot(x,y_1,color=\"#0abab5\", label='Train Score',linestyle='--',marker ='o')\n",
    "        ax[i].plot(x,y_2,color=\"#EE82EE\", label='5fold-Cross-validation Score',linestyle='--',marker ='o')\n",
    "        ax[i].plot(x,y_3,color='b', label='Test Score',linestyle='-',marker ='^')\n",
    "        ax[i].fill_between(x, y_1-e_1,y_1+e_1,alpha=0.1,\n",
    "                     color=\"#0abab5\")\n",
    "        ax[i].fill_between(x, y_2-e_2,y_2+e_2,alpha=0.1,\n",
    "                     color=\"#EE82EE\")\n",
    "        ax[i].legend()\n",
    "\n",
    "    plt.show()\n",
    "\n",
    "\n",
    "    \n",
    "plot_search_results(grid_knn, knn_ts_score)"
   ]
  },
  {
   "cell_type": "code",
   "execution_count": 33,
   "metadata": {},
   "outputs": [
    {
     "data": {
      "image/png": "[encoded data removed]",
      "text/plain": [
       "<Figure size 1440x432 with 2 Axes>"
      ]
     },
     "metadata": {
      "needs_background": "light"
     },
     "output_type": "display_data"
    }
   ],
   "source": [
    "def plot_search_results(grid, score):\n",
    " \n",
    "    #--- Results from grid search\n",
    "    results = grid.cv_results_\n",
    "    means_train = results['mean_train_score']\n",
    "    stds_train = results['std_train_score']\n",
    "    means_test = results['mean_test_score']\n",
    "    stds_test = results['std_test_score']\n",
    "\n",
    "    testset = np.array(score)\n",
    "    \n",
    "    \n",
    "    #knn_testset = np.array(knn_ts_score)\n",
    "    #poly_testset = np.array(poly_testset_score)\n",
    "    #sigmoid_testset = np.array(sigmoid_testset_score)\n",
    "    #dtree_testset = np.array(dtree_testset_score)\n",
    "    #gb_testset = np.array(gb_testset_score)\n",
    "\n",
    "    #--- Getting indexes of values per hyper-parameter\n",
    "    masks=[]\n",
    "    masks_names= list(grid.best_params_.keys())\n",
    "    for p_k, p_v in grid.best_params_.items():\n",
    "        masks.append(list(results['param_'+p_k].data==p_v))\n",
    "\n",
    "    params=grid.param_grid\n",
    "    \n",
    "    #--- Ploting results\n",
    "    fig, ax = plt.subplots(1,len(params),sharex='none', sharey='all',figsize=(20,6))\n",
    "    #fig = plot_figure(style_label='classic') #################\n",
    "    fig.suptitle('Scores vs. Parameters')\n",
    "    ax[0].set_ylabel('Sensitivity')\n",
    "    #fig.text(0.04, 0.5, 'Recall', va='center', rotation='vertical')\n",
    "    pram_preformace_in_best = {}\n",
    "    for i, p in enumerate(masks_names):\n",
    "        m = np.stack(masks[:i] + masks[i+1:])\n",
    "        pram_preformace_in_best\n",
    "        best_parms_mask = m.all(axis=0)\n",
    "        best_index = np.where(best_parms_mask)[0]\n",
    "        #x = np.array(params[p])\n",
    "        x = np.arange(len(np.array(params[p])))\n",
    "        \n",
    "        y_1 = np.array(means_train[best_index])\n",
    "        e_1 = np.array(stds_train[best_index])\n",
    "        y_2 = np.array(means_test[best_index])\n",
    "        e_2 = np.array(stds_test[best_index])\n",
    "        y_3 = np.array(testset[best_index])\n",
    "        \n",
    "        ax[i].set_xticks(x)\n",
    "        ax[i].set_xticklabels(params[p])\n",
    "        al, w = 0.8, 0.2\n",
    "        ax[i].set_xlabel(p.upper())\n",
    "        ax[i].bar(x-w,y_1,color=\"#0abab5\", label='Train Score', alpha=al, width=w)\n",
    "        ax[i].bar(x,y_2,color=\"#EE82EE\", label='5fold-Cross-validation Score', alpha=al, width=w)\n",
    "        ax[i].bar(x+w,y_3,color='b', label='Test Score', alpha=al, width=w)\n",
    "        #ax[i].fill_between(x, y_1-e_1,y_1+e_1,alpha=0.1,color=\"#0abab5\")\n",
    "        #ax[i].fill_between(x, y_2-e_2,y_2+e_2,alpha=0.1,color=\"#EE82EE\")\n",
    "        ax[i].legend(loc='lower right')\n",
    "\n",
    "    plt.show()\n",
    "\n",
    "\n",
    "    \n",
    "plot_search_results(grid_knn, knn_ts_score)"
   ]
  },
  {
   "cell_type": "code",
   "execution_count": 35,
   "metadata": {},
   "outputs": [
    {
     "data": {
      "text/plain": [
       "array([0.97675708, 0.97675708, 0.96293239, 0.97675708, 0.97675708,\n",
       "       0.97675708, 0.96293239, 0.97675708, 0.97675708, 0.97675708,\n",
       "       0.96293239, 0.97675708])"
      ]
     },
     "execution_count": 35,
     "metadata": {},
     "output_type": "execute_result"
    },
    {
     "data": {
      "text/plain": [
       "dict_keys(['algorithm', 'metric'])"
      ]
     },
     "execution_count": 35,
     "metadata": {},
     "output_type": "execute_result"
    },
    {
     "data": {
      "text/plain": [
       "'ball_tree'"
      ]
     },
     "execution_count": 35,
     "metadata": {},
     "output_type": "execute_result"
    },
    {
     "data": {
      "text/plain": [
       "'manhattan'"
      ]
     },
     "execution_count": 35,
     "metadata": {},
     "output_type": "execute_result"
    }
   ],
   "source": [
    "results = grid_knn.cv_results_\n",
    "means_train = results['mean_train_score']\n",
    "means_train\n",
    "grid_knn.best_params_.keys()\n",
    "grid_knn.best_params_['algorithm']\n",
    "grid_knn.best_params_['metric']"
   ]
  },
  {
   "cell_type": "code",
   "execution_count": 39,
   "metadata": {
    "scrolled": false
   },
   "outputs": [
    {
     "data": {
      "text/plain": [
       "KNeighborsClassifier(algorithm='auto', leaf_size=30, metric='minkowski',\n",
       "                     metric_params=None, n_jobs=None, n_neighbors=1, p=2,\n",
       "                     weights='uniform')"
      ]
     },
     "execution_count": 39,
     "metadata": {},
     "output_type": "execute_result"
    },
    {
     "data": {
      "text/plain": [
       "KNeighborsClassifier(algorithm='auto', leaf_size=30, metric='minkowski',\n",
       "                     metric_params=None, n_jobs=None, n_neighbors=2, p=2,\n",
       "                     weights='uniform')"
      ]
     },
     "execution_count": 39,
     "metadata": {},
     "output_type": "execute_result"
    },
    {
     "data": {
      "text/plain": [
       "KNeighborsClassifier(algorithm='auto', leaf_size=30, metric='minkowski',\n",
       "                     metric_params=None, n_jobs=None, n_neighbors=3, p=2,\n",
       "                     weights='uniform')"
      ]
     },
     "execution_count": 39,
     "metadata": {},
     "output_type": "execute_result"
    },
    {
     "data": {
      "text/plain": [
       "KNeighborsClassifier(algorithm='auto', leaf_size=30, metric='minkowski',\n",
       "                     metric_params=None, n_jobs=None, n_neighbors=4, p=2,\n",
       "                     weights='uniform')"
      ]
     },
     "execution_count": 39,
     "metadata": {},
     "output_type": "execute_result"
    },
    {
     "data": {
      "text/plain": [
       "KNeighborsClassifier(algorithm='auto', leaf_size=30, metric='minkowski',\n",
       "                     metric_params=None, n_jobs=None, n_neighbors=5, p=2,\n",
       "                     weights='uniform')"
      ]
     },
     "execution_count": 39,
     "metadata": {},
     "output_type": "execute_result"
    },
    {
     "data": {
      "text/plain": [
       "KNeighborsClassifier(algorithm='auto', leaf_size=30, metric='minkowski',\n",
       "                     metric_params=None, n_jobs=None, n_neighbors=6, p=2,\n",
       "                     weights='uniform')"
      ]
     },
     "execution_count": 39,
     "metadata": {},
     "output_type": "execute_result"
    },
    {
     "data": {
      "text/plain": [
       "KNeighborsClassifier(algorithm='auto', leaf_size=30, metric='minkowski',\n",
       "                     metric_params=None, n_jobs=None, n_neighbors=7, p=2,\n",
       "                     weights='uniform')"
      ]
     },
     "execution_count": 39,
     "metadata": {},
     "output_type": "execute_result"
    },
    {
     "data": {
      "text/plain": [
       "KNeighborsClassifier(algorithm='auto', leaf_size=30, metric='minkowski',\n",
       "                     metric_params=None, n_jobs=None, n_neighbors=8, p=2,\n",
       "                     weights='uniform')"
      ]
     },
     "execution_count": 39,
     "metadata": {},
     "output_type": "execute_result"
    },
    {
     "data": {
      "text/plain": [
       "KNeighborsClassifier(algorithm='auto', leaf_size=30, metric='minkowski',\n",
       "                     metric_params=None, n_jobs=None, n_neighbors=9, p=2,\n",
       "                     weights='uniform')"
      ]
     },
     "execution_count": 39,
     "metadata": {},
     "output_type": "execute_result"
    },
    {
     "data": {
      "text/plain": [
       "KNeighborsClassifier(algorithm='auto', leaf_size=30, metric='minkowski',\n",
       "                     metric_params=None, n_jobs=None, n_neighbors=10, p=2,\n",
       "                     weights='uniform')"
      ]
     },
     "execution_count": 39,
     "metadata": {},
     "output_type": "execute_result"
    },
    {
     "data": {
      "text/plain": [
       "KNeighborsClassifier(algorithm='auto', leaf_size=30, metric='minkowski',\n",
       "                     metric_params=None, n_jobs=None, n_neighbors=11, p=2,\n",
       "                     weights='uniform')"
      ]
     },
     "execution_count": 39,
     "metadata": {},
     "output_type": "execute_result"
    },
    {
     "data": {
      "text/plain": [
       "KNeighborsClassifier(algorithm='auto', leaf_size=30, metric='minkowski',\n",
       "                     metric_params=None, n_jobs=None, n_neighbors=12, p=2,\n",
       "                     weights='uniform')"
      ]
     },
     "execution_count": 39,
     "metadata": {},
     "output_type": "execute_result"
    },
    {
     "data": {
      "text/plain": [
       "KNeighborsClassifier(algorithm='auto', leaf_size=30, metric='minkowski',\n",
       "                     metric_params=None, n_jobs=None, n_neighbors=13, p=2,\n",
       "                     weights='uniform')"
      ]
     },
     "execution_count": 39,
     "metadata": {},
     "output_type": "execute_result"
    },
    {
     "data": {
      "text/plain": [
       "KNeighborsClassifier(algorithm='auto', leaf_size=30, metric='minkowski',\n",
       "                     metric_params=None, n_jobs=None, n_neighbors=14, p=2,\n",
       "                     weights='uniform')"
      ]
     },
     "execution_count": 39,
     "metadata": {},
     "output_type": "execute_result"
    },
    {
     "data": {
      "text/plain": [
       "KNeighborsClassifier(algorithm='auto', leaf_size=30, metric='minkowski',\n",
       "                     metric_params=None, n_jobs=None, n_neighbors=15, p=2,\n",
       "                     weights='uniform')"
      ]
     },
     "execution_count": 39,
     "metadata": {},
     "output_type": "execute_result"
    },
    {
     "data": {
      "text/plain": [
       "KNeighborsClassifier(algorithm='auto', leaf_size=30, metric='minkowski',\n",
       "                     metric_params=None, n_jobs=None, n_neighbors=16, p=2,\n",
       "                     weights='uniform')"
      ]
     },
     "execution_count": 39,
     "metadata": {},
     "output_type": "execute_result"
    },
    {
     "data": {
      "text/plain": [
       "KNeighborsClassifier(algorithm='auto', leaf_size=30, metric='minkowski',\n",
       "                     metric_params=None, n_jobs=None, n_neighbors=17, p=2,\n",
       "                     weights='uniform')"
      ]
     },
     "execution_count": 39,
     "metadata": {},
     "output_type": "execute_result"
    },
    {
     "data": {
      "text/plain": [
       "KNeighborsClassifier(algorithm='auto', leaf_size=30, metric='minkowski',\n",
       "                     metric_params=None, n_jobs=None, n_neighbors=18, p=2,\n",
       "                     weights='uniform')"
      ]
     },
     "execution_count": 39,
     "metadata": {},
     "output_type": "execute_result"
    },
    {
     "data": {
      "text/plain": [
       "KNeighborsClassifier(algorithm='auto', leaf_size=30, metric='minkowski',\n",
       "                     metric_params=None, n_jobs=None, n_neighbors=19, p=2,\n",
       "                     weights='uniform')"
      ]
     },
     "execution_count": 39,
     "metadata": {},
     "output_type": "execute_result"
    },
    {
     "data": {
      "text/plain": [
       "KNeighborsClassifier(algorithm='auto', leaf_size=30, metric='minkowski',\n",
       "                     metric_params=None, n_jobs=None, n_neighbors=20, p=2,\n",
       "                     weights='uniform')"
      ]
     },
     "execution_count": 39,
     "metadata": {},
     "output_type": "execute_result"
    },
    {
     "data": {
      "text/plain": [
       "KNeighborsClassifier(algorithm='auto', leaf_size=30, metric='minkowski',\n",
       "                     metric_params=None, n_jobs=None, n_neighbors=21, p=2,\n",
       "                     weights='uniform')"
      ]
     },
     "execution_count": 39,
     "metadata": {},
     "output_type": "execute_result"
    },
    {
     "data": {
      "text/plain": [
       "KNeighborsClassifier(algorithm='auto', leaf_size=30, metric='minkowski',\n",
       "                     metric_params=None, n_jobs=None, n_neighbors=22, p=2,\n",
       "                     weights='uniform')"
      ]
     },
     "execution_count": 39,
     "metadata": {},
     "output_type": "execute_result"
    },
    {
     "data": {
      "text/plain": [
       "KNeighborsClassifier(algorithm='auto', leaf_size=30, metric='minkowski',\n",
       "                     metric_params=None, n_jobs=None, n_neighbors=23, p=2,\n",
       "                     weights='uniform')"
      ]
     },
     "execution_count": 39,
     "metadata": {},
     "output_type": "execute_result"
    },
    {
     "data": {
      "text/plain": [
       "KNeighborsClassifier(algorithm='auto', leaf_size=30, metric='minkowski',\n",
       "                     metric_params=None, n_jobs=None, n_neighbors=24, p=2,\n",
       "                     weights='uniform')"
      ]
     },
     "execution_count": 39,
     "metadata": {},
     "output_type": "execute_result"
    },
    {
     "data": {
      "text/plain": [
       "KNeighborsClassifier(algorithm='auto', leaf_size=30, metric='minkowski',\n",
       "                     metric_params=None, n_jobs=None, n_neighbors=25, p=2,\n",
       "                     weights='uniform')"
      ]
     },
     "execution_count": 39,
     "metadata": {},
     "output_type": "execute_result"
    },
    {
     "data": {
      "text/plain": [
       "KNeighborsClassifier(algorithm='auto', leaf_size=30, metric='minkowski',\n",
       "                     metric_params=None, n_jobs=None, n_neighbors=26, p=2,\n",
       "                     weights='uniform')"
      ]
     },
     "execution_count": 39,
     "metadata": {},
     "output_type": "execute_result"
    },
    {
     "data": {
      "text/plain": [
       "KNeighborsClassifier(algorithm='auto', leaf_size=30, metric='minkowski',\n",
       "                     metric_params=None, n_jobs=None, n_neighbors=27, p=2,\n",
       "                     weights='uniform')"
      ]
     },
     "execution_count": 39,
     "metadata": {},
     "output_type": "execute_result"
    },
    {
     "data": {
      "text/plain": [
       "KNeighborsClassifier(algorithm='auto', leaf_size=30, metric='minkowski',\n",
       "                     metric_params=None, n_jobs=None, n_neighbors=28, p=2,\n",
       "                     weights='uniform')"
      ]
     },
     "execution_count": 39,
     "metadata": {},
     "output_type": "execute_result"
    },
    {
     "data": {
      "text/plain": [
       "KNeighborsClassifier(algorithm='auto', leaf_size=30, metric='minkowski',\n",
       "                     metric_params=None, n_jobs=None, n_neighbors=29, p=2,\n",
       "                     weights='uniform')"
      ]
     },
     "execution_count": 39,
     "metadata": {},
     "output_type": "execute_result"
    },
    {
     "data": {
      "text/plain": [
       "KNeighborsClassifier(algorithm='auto', leaf_size=30, metric='minkowski',\n",
       "                     metric_params=None, n_jobs=None, n_neighbors=30, p=2,\n",
       "                     weights='uniform')"
      ]
     },
     "execution_count": 39,
     "metadata": {},
     "output_type": "execute_result"
    },
    {
     "data": {
      "text/plain": [
       "KNeighborsClassifier(algorithm='auto', leaf_size=30, metric='minkowski',\n",
       "                     metric_params=None, n_jobs=None, n_neighbors=31, p=2,\n",
       "                     weights='uniform')"
      ]
     },
     "execution_count": 39,
     "metadata": {},
     "output_type": "execute_result"
    },
    {
     "data": {
      "text/plain": [
       "KNeighborsClassifier(algorithm='auto', leaf_size=30, metric='minkowski',\n",
       "                     metric_params=None, n_jobs=None, n_neighbors=32, p=2,\n",
       "                     weights='uniform')"
      ]
     },
     "execution_count": 39,
     "metadata": {},
     "output_type": "execute_result"
    },
    {
     "data": {
      "text/plain": [
       "KNeighborsClassifier(algorithm='auto', leaf_size=30, metric='minkowski',\n",
       "                     metric_params=None, n_jobs=None, n_neighbors=33, p=2,\n",
       "                     weights='uniform')"
      ]
     },
     "execution_count": 39,
     "metadata": {},
     "output_type": "execute_result"
    },
    {
     "data": {
      "text/plain": [
       "KNeighborsClassifier(algorithm='auto', leaf_size=30, metric='minkowski',\n",
       "                     metric_params=None, n_jobs=None, n_neighbors=34, p=2,\n",
       "                     weights='uniform')"
      ]
     },
     "execution_count": 39,
     "metadata": {},
     "output_type": "execute_result"
    },
    {
     "data": {
      "text/plain": [
       "KNeighborsClassifier(algorithm='auto', leaf_size=30, metric='minkowski',\n",
       "                     metric_params=None, n_jobs=None, n_neighbors=35, p=2,\n",
       "                     weights='uniform')"
      ]
     },
     "execution_count": 39,
     "metadata": {},
     "output_type": "execute_result"
    },
    {
     "data": {
      "text/plain": [
       "KNeighborsClassifier(algorithm='auto', leaf_size=30, metric='minkowski',\n",
       "                     metric_params=None, n_jobs=None, n_neighbors=36, p=2,\n",
       "                     weights='uniform')"
      ]
     },
     "execution_count": 39,
     "metadata": {},
     "output_type": "execute_result"
    },
    {
     "data": {
      "text/plain": [
       "KNeighborsClassifier(algorithm='auto', leaf_size=30, metric='minkowski',\n",
       "                     metric_params=None, n_jobs=None, n_neighbors=37, p=2,\n",
       "                     weights='uniform')"
      ]
     },
     "execution_count": 39,
     "metadata": {},
     "output_type": "execute_result"
    },
    {
     "data": {
      "text/plain": [
       "KNeighborsClassifier(algorithm='auto', leaf_size=30, metric='minkowski',\n",
       "                     metric_params=None, n_jobs=None, n_neighbors=38, p=2,\n",
       "                     weights='uniform')"
      ]
     },
     "execution_count": 39,
     "metadata": {},
     "output_type": "execute_result"
    },
    {
     "data": {
      "text/plain": [
       "KNeighborsClassifier(algorithm='auto', leaf_size=30, metric='minkowski',\n",
       "                     metric_params=None, n_jobs=None, n_neighbors=39, p=2,\n",
       "                     weights='uniform')"
      ]
     },
     "execution_count": 39,
     "metadata": {},
     "output_type": "execute_result"
    },
    {
     "data": {
      "text/plain": [
       "<Figure size 576x288 with 0 Axes>"
      ]
     },
     "execution_count": 39,
     "metadata": {},
     "output_type": "execute_result"
    },
    {
     "data": {
      "text/plain": [
       "[<matplotlib.lines.Line2D at 0x198f1746470>]"
      ]
     },
     "execution_count": 39,
     "metadata": {},
     "output_type": "execute_result"
    },
    {
     "data": {
      "text/plain": [
       "Text(0.5, 1.0, 'Error Rate vs K Value(the number of Nodes)')"
      ]
     },
     "execution_count": 39,
     "metadata": {},
     "output_type": "execute_result"
    },
    {
     "data": {
      "text/plain": [
       "Text(0.5, 0, 'K')"
      ]
     },
     "execution_count": 39,
     "metadata": {},
     "output_type": "execute_result"
    },
    {
     "data": {
      "text/plain": [
       "Text(0, 0.5, 'Error Rate')"
      ]
     },
     "execution_count": 39,
     "metadata": {},
     "output_type": "execute_result"
    },
    {
     "data": {
      "image/png": "[encoded data removed]",
      "text/plain": [
       "<Figure size 576x288 with 1 Axes>"
      ]
     },
     "metadata": {
      "needs_background": "light"
     },
     "output_type": "display_data"
    }
   ],
   "source": [
    "# elbow method to choose better K value\n",
    "error_rate = []\n",
    "\n",
    "for i in range(1,40):\n",
    "    \n",
    "    knn = KNeighborsClassifier(n_neighbors=i)\n",
    "    knn.fit(X_train, y_train)\n",
    "    pred_i = knn.predict(X_test)\n",
    "    error_rate.append(np.mean(pred_i != y_test))\n",
    "    \n",
    "    \n",
    "plt.figure(figsize=(8,4))\n",
    "plt.plot(range(1,40), error_rate, color='blue', ls= 'dashed',marker='o', markersize=5)\n",
    "plt.title('Error Rate vs K Value(the number of Nodes)')\n",
    "plt.xlabel('K')\n",
    "plt.ylabel('Error Rate')\n",
    "\n"
   ]
  },
  {
   "cell_type": "code",
   "execution_count": null,
   "metadata": {},
   "outputs": [],
   "source": [
    "\n",
    "\n",
    "def plot_cm(labels, predictions, p=0.5):\n",
    "    cm = confusion_matrix(labels, predictions > p)\n",
    "    plt.figure(figsize=(4,4))\n",
    "    sns.heatmap(cm, annot=True, fmt=\"d\")\n",
    "    plt.title('Confusion matrix @{:.2f}'.format(p))\n",
    "    plt.ylabel('Actual label')\n",
    "    plt.xlabel('Predicted label')\n",
    "\n",
    "    print('Legitimate Transactions Detected (True Negatives): ', cm[0][0])\n",
    "    print('Legitimate Transactions Incorrectly Detected (False Positives): ', cm[0][1])\n",
    "    print('Fraudulent Transactions Missed (False Negatives): ', cm[1][0])\n",
    "    print('Fraudulent Transactions Detected (True Positives): ', cm[1][1])\n",
    "    print('Total Fraudulent Transactions: ', np.sum(cm[1]))\n"
   ]
  }
 ],
 "metadata": {
  "kernelspec": {
   "display_name": "Python 3",
   "language": "python",
   "name": "python3"
  },
  "language_info": {
   "codemirror_mode": {
    "name": "ipython",
    "version": 3
   },
   "file_extension": ".py",
   "mimetype": "text/x-python",
   "name": "python",
   "nbconvert_exporter": "python",
   "pygments_lexer": "ipython3",
   "version": "3.6.9"
  }
 },
 "nbformat": 4,
 "nbformat_minor": 2
}
